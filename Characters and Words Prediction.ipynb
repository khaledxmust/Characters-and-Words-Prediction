{
 "cells": [
  {
   "cell_type": "markdown",
   "metadata": {},
   "source": [
    "# <p style=\"text-align: center;\"> Characters and Words Prediction </p>\n",
    "<p style=\"text-align: center;\">Using LSTM | Recurrent Neural Networks</p>"
   ]
  },
  {
   "cell_type": "code",
   "execution_count": null,
   "metadata": {
    "colab": {
     "base_uri": "https://localhost:8080/",
     "height": 627
    },
    "colab_type": "code",
    "id": "R3ghxFnzo7yB",
    "outputId": "e4665484-4c9a-4df8-d0ff-7f5f2ff3f41a"
   },
   "outputs": [],
   "source": [
    "!pip install -U tensorflow-gpu"
   ]
  },
  {
   "cell_type": "code",
   "execution_count": 0,
   "metadata": {
    "colab": {},
    "colab_type": "code",
    "id": "-IMcpe87hb5z"
   },
   "outputs": [],
   "source": [
    "import numpy as np\n",
    "import sys\n",
    "import tensorflow as tf\n",
    "from tensorflow import keras\n",
    "from operator import itemgetter\n",
    "from keras.models import Sequential\n",
    "from keras.layers import Dense\n",
    "from keras.layers import Dropout\n",
    "from keras.layers import LSTM\n",
    "from keras.callbacks import ModelCheckpoint\n",
    "from keras.utils import np_utils"
   ]
  },
  {
   "cell_type": "markdown",
   "metadata": {},
   "source": [
    "### Reading text file"
   ]
  },
  {
   "cell_type": "code",
   "execution_count": 0,
   "metadata": {
    "colab": {},
    "colab_type": "code",
    "id": "a9UeRztOhb3d"
   },
   "outputs": [],
   "source": [
    "import gzip\n",
    "import urllib\n",
    "dataurl=\"http://www.gutenberg.org/cache/epub/11/pg11.txt\"\n",
    "urllib.request.urlretrieve(dataurl, \"wonderland.txt.gz\")\n",
    "with gzip.open('wonderland.txt.gz') as f:\n",
    "    data=f.read()"
   ]
  },
  {
   "cell_type": "markdown",
   "metadata": {},
   "source": [
    "<div class=\"alert alert-block alert-warning\">\n",
    "    1. Characters Prediction\n",
    "</div>"
   ]
  },
  {
   "cell_type": "markdown",
   "metadata": {},
   "source": [
    "### Extract the Unique Characters"
   ]
  },
  {
   "cell_type": "code",
   "execution_count": 252,
   "metadata": {
    "colab": {
     "base_uri": "https://localhost:8080/",
     "height": 52
    },
    "colab_type": "code",
    "id": "1bQ5Ih_e1D4j",
    "outputId": "13029886-28ea-44f2-dd92-390bccb34b20"
   },
   "outputs": [
    {
     "name": "stdout",
     "output_type": "stream",
     "text": [
      "Length of text: 167516 characters\n",
      "86 unique characters\n"
     ]
    }
   ],
   "source": [
    "# 1.\n",
    "Data = str(data.decode(encoding='utf-8'))\n",
    "print('Length of text: {} characters'.format(len(Data)))\n",
    "Uniq = sorted(set(list(Data)))\n",
    "print('{} unique characters'.format(len(Uniq)))\n",
    "chars = []\n",
    "for key in Uniq:\n",
    "    chars.append([key,Data.count(key)])"
   ]
  },
  {
   "cell_type": "markdown",
   "metadata": {},
   "source": [
    "### Sorting Unique Characters into indexed Dictionary"
   ]
  },
  {
   "cell_type": "code",
   "execution_count": 253,
   "metadata": {
    "colab": {
     "base_uri": "https://localhost:8080/",
     "height": 55
    },
    "colab_type": "code",
    "id": "za0GRO4nlbOm",
    "outputId": "7b5837b2-822e-4451-eba5-cabfc0f69df6"
   },
   "outputs": [
    {
     "name": "stdout",
     "output_type": "stream",
     "text": [
      "{'\\n': 0, '\\r': 1, ' ': 2, '!': 3, '\"': 4, '#': 5, '$': 6, '%': 7, \"'\": 8, '(': 9, ')': 10, '*': 11, ',': 12, '-': 13, '.': 14, '/': 15, '0': 16, '1': 17, '2': 18, '3': 19, '4': 20, '5': 21, '6': 22, '7': 23, '8': 24, '9': 25, ':': 26, ';': 27, '?': 28, '@': 29, 'A': 30, 'B': 31, 'C': 32, 'D': 33, 'E': 34, 'F': 35, 'G': 36, 'H': 37, 'I': 38, 'J': 39, 'K': 40, 'L': 41, 'M': 42, 'N': 43, 'O': 44, 'P': 45, 'Q': 46, 'R': 47, 'S': 48, 'T': 49, 'U': 50, 'V': 51, 'W': 52, 'X': 53, 'Y': 54, 'Z': 55, '[': 56, ']': 57, '_': 58, 'a': 59, 'b': 60, 'c': 61, 'd': 62, 'e': 63, 'f': 64, 'g': 65, 'h': 66, 'i': 67, 'j': 68, 'k': 69, 'l': 70, 'm': 71, 'n': 72, 'o': 73, 'p': 74, 'q': 75, 'r': 76, 's': 77, 't': 78, 'u': 79, 'v': 80, 'w': 81, 'x': 82, 'y': 83, 'z': 84, '\\ufeff': 85}\n"
     ]
    }
   ],
   "source": [
    "# 2.\n",
    "char_to_int = {}\n",
    "for i in range(len(chars)):\n",
    "    char_to_int[chars[i][0]] = i\n",
    "int_to_char = dict(enumerate(Uniq))\n",
    "print(char_to_int)"
   ]
  },
  {
   "cell_type": "markdown",
   "metadata": {},
   "source": [
    "### Input Sequences ( length = 100 - window size = 1 )"
   ]
  },
  {
   "cell_type": "code",
   "execution_count": 254,
   "metadata": {
    "colab": {
     "base_uri": "https://localhost:8080/",
     "height": 55
    },
    "colab_type": "code",
    "id": "aYXu6HZOlbIq",
    "outputId": "8d3c2918-5e0d-4915-dfff-7faf714085a2"
   },
   "outputs": [
    {
     "name": "stdout",
     "output_type": "stream",
     "text": [
      "[[\"\\ufeffProject Gutenberg's Alice's Adventures in Wonderland, by Lewis Carroll\\r\\n\\r\\nThis eBook is for the use\", ' '], [\"Project Gutenberg's Alice's Adventures in Wonderland, by Lewis Carroll\\r\\n\\r\\nThis eBook is for the use \", 'o'], [\"roject Gutenberg's Alice's Adventures in Wonderland, by Lewis Carroll\\r\\n\\r\\nThis eBook is for the use o\", 'f']]\n"
     ]
    }
   ],
   "source": [
    "# 3.\n",
    "Seq = []\n",
    "for i in range(0,len(Data)-101):\n",
    "    seq = Data[i:i+100]\n",
    "    Seq.append([seq, Data[i+100]])\n",
    "print(Seq[:3])"
   ]
  },
  {
   "cell_type": "markdown",
   "metadata": {},
   "source": [
    "### Represinting Sequences as Integers & Encoding Target Character"
   ]
  },
  {
   "cell_type": "code",
   "execution_count": 255,
   "metadata": {
    "colab": {
     "base_uri": "https://localhost:8080/",
     "height": 52
    },
    "colab_type": "code",
    "id": "rbGgNpI4-TxK",
    "outputId": "1060f3db-bd04-4130-d5d4-86d6f0a92fdc"
   },
   "outputs": [
    {
     "name": "stdout",
     "output_type": "stream",
     "text": [
      "(167415, 100, 1)\n",
      "(167415, 86)\n"
     ]
    }
   ],
   "source": [
    "# 4.\n",
    "dataX, dataY = [], []\n",
    "def Compare(word):\n",
    "    res = 0\n",
    "    for letter in word:\n",
    "        if letter in char_to_int:\n",
    "            res += char_to_int[letter]\n",
    "    return res\n",
    "\n",
    "def Comparex(word):\n",
    "    res = []\n",
    "    for letter in word:\n",
    "        if letter in char_to_int:\n",
    "            res.append(char_to_int[letter])\n",
    "    return res\n",
    "\n",
    "for i in range(len(Seq)):\n",
    "    letter = [0 for _ in range(len(char_to_int))]\n",
    "    letter[Compare(Seq[i][1])] = 1\n",
    "    dataX.append(Comparex(Seq[i][0]))\n",
    "    dataY.append(letter)\n",
    "dataX = np.array(dataX)\n",
    "dataY = np.array(dataY)\n",
    "\n",
    "batch_size = 180\n",
    "dataX = tf.reshape(dataX, [167415, 100,1])\n",
    "print(np.shape(dataX))\n",
    "dataY = tf.reshape(dataY, [167415, 86])\n",
    "print(np.shape(dataY))"
   ]
  },
  {
   "cell_type": "markdown",
   "metadata": {},
   "source": [
    "### Simple LSTM Model"
   ]
  },
  {
   "cell_type": "code",
   "execution_count": 256,
   "metadata": {
    "colab": {
     "base_uri": "https://localhost:8080/",
     "height": 225
    },
    "colab_type": "code",
    "id": "ODVpyP-M-TuT",
    "outputId": "382ad7ba-8fe9-4494-d4a9-8b36d227e665"
   },
   "outputs": [
    {
     "name": "stdout",
     "output_type": "stream",
     "text": [
      "Model: \"sequential_17\"\n",
      "_________________________________________________________________\n",
      "Layer (type)                 Output Shape              Param #   \n",
      "=================================================================\n",
      "lstm_17 (LSTM)               (None, 100)               40800     \n",
      "_________________________________________________________________\n",
      "dense_17 (Dense)             (None, 86)                8686      \n",
      "=================================================================\n",
      "Total params: 49,486\n",
      "Trainable params: 49,486\n",
      "Non-trainable params: 0\n",
      "_________________________________________________________________\n"
     ]
    }
   ],
   "source": [
    "# 5.\n",
    "\n",
    "Chlen = len(Uniq)\n",
    "model = tf.keras.models.Sequential([\n",
    "    tf.keras.layers.LSTM(100, input_shape=[None,1]),\n",
    "    tf.keras.layers.Dense(Chlen, activation=\"softmax\"), \n",
    "    ])\n",
    "model.compile(loss=\"categorical_crossentropy\", optimizer=\"adam\", metrics=['accuracy'])\n",
    "model.summary()"
   ]
  },
  {
   "cell_type": "code",
   "execution_count": 257,
   "metadata": {
    "colab": {
     "base_uri": "https://localhost:8080/",
     "height": 381
    },
    "colab_type": "code",
    "id": "5KDMY2hn-Tr0",
    "outputId": "a48525c8-d7be-4632-ea4b-8b91b5646854"
   },
   "outputs": [
    {
     "name": "stdout",
     "output_type": "stream",
     "text": [
      "Train on 167415 samples\n",
      "Epoch 1/10\n",
      "167415/167415 [==============================] - 9s 56us/sample - loss: 2.8778 - accuracy: 0.2304\n",
      "Epoch 2/10\n",
      "167415/167415 [==============================] - 8s 49us/sample - loss: 2.6662 - accuracy: 0.2750\n",
      "Epoch 3/10\n",
      "167415/167415 [==============================] - 8s 49us/sample - loss: 2.5951 - accuracy: 0.2885\n",
      "Epoch 4/10\n",
      "167415/167415 [==============================] - 8s 49us/sample - loss: 2.5467 - accuracy: 0.2956\n",
      "Epoch 5/10\n",
      "167415/167415 [==============================] - 8s 49us/sample - loss: 2.5064 - accuracy: 0.3017\n",
      "Epoch 6/10\n",
      "167415/167415 [==============================] - 8s 49us/sample - loss: 2.4742 - accuracy: 0.3077\n",
      "Epoch 7/10\n",
      "167415/167415 [==============================] - 8s 49us/sample - loss: 2.4446 - accuracy: 0.3127\n",
      "Epoch 8/10\n",
      "167415/167415 [==============================] - 8s 49us/sample - loss: 2.4199 - accuracy: 0.3173\n",
      "Epoch 9/10\n",
      "167415/167415 [==============================] - 9s 52us/sample - loss: 2.3974 - accuracy: 0.3223\n",
      "Epoch 10/10\n",
      "167415/167415 [==============================] - 8s 50us/sample - loss: 2.3770 - accuracy: 0.3276\n"
     ]
    }
   ],
   "source": [
    "# 6.\n",
    "checkpoint_cb = tf.keras.callbacks.ModelCheckpoint(\"Model.h5\")\n",
    "history = model.fit(dataX, dataY, batch_size=180, epochs=10, callbacks=[checkpoint_cb])"
   ]
  },
  {
   "cell_type": "markdown",
   "metadata": {},
   "source": [
    "### Converting back to text & Testing"
   ]
  },
  {
   "cell_type": "code",
   "execution_count": 259,
   "metadata": {
    "colab": {
     "base_uri": "https://localhost:8080/",
     "height": 89
    },
    "colab_type": "code",
    "id": "zOLYGE5-VcYa",
    "outputId": "7bed6742-7941-4b4b-9a41-86cb0a2dc0c0"
   },
   "outputs": [
    {
     "name": "stdout",
     "output_type": "stream",
     "text": [
      "['t'] : is the Predicted Character\n",
      "Converted input integers: [\"Project Gutenberg's Alice's Adventures in Wonderland, by Lewis Carroll\\r\\n\\r\\nThis eBook is for the use t\"]\n",
      "Predicted 300 Characters: [\"Project Gutenberg's Alice's Adventures in Wonderland, by Lewis Carroll\\r\\n\\r\\nThis eBook is for the use to toe tooe to the sane to the sane to the sane to the sane to the sane to the sane to the sane to the sane to the sane to the sane to the sane to the sane to the sane to the sane to the sane to the sane to the sane to the sane to the sane to the sane to the sane to the sane to the sane to the sane \"]\n"
     ]
    }
   ],
   "source": [
    "# 7.\n",
    "Str = str()\n",
    "test = tf.dtypes.cast(tf.reshape(dataX[1], [1,100,1]), tf.float32)\n",
    "lastChar = model.predict_classes(test)\n",
    "print('{} : is the Predicted Character'.format([int_to_char[lastChar[0]]]))\n",
    "lastInputs = [int_to_char[x[0]] for x in list(np.asarray(dataX[1]))]\n",
    "for x in lastInputs:\n",
    "  Str += x\n",
    "Str += int_to_char[lastChar[0]]\n",
    "print('Converted input integers: {}'.format([Str]))\n",
    "TestSeq = np.asarray(dataX[1]).flatten().reshape(100,1)\n",
    "for i in range(300):\n",
    "  test = tf.reshape(TestSeq, [1,len(TestSeq),1])\n",
    "  test = tf.dtypes.cast(test, tf.float32)\n",
    "  x = model.predict_classes(test)\n",
    "  TestSeq = np.append(TestSeq, x)\n",
    "PredictedChars = [int_to_char[x] for x in list((TestSeq).flatten())]\n",
    "PredStrs = str()\n",
    "for x in PredictedChars:\n",
    "  PredStrs += x\n",
    "print('Predicted 300 Characters: {}'.format([PredStrs]))"
   ]
  },
  {
   "cell_type": "markdown",
   "metadata": {},
   "source": [
    "<div class=\"alert alert-block alert-warning\">\n",
    "    2. Words Prediction\n",
    "</div>"
   ]
  },
  {
   "cell_type": "markdown",
   "metadata": {},
   "source": [
    "### PreProcessing"
   ]
  },
  {
   "cell_type": "code",
   "execution_count": 263,
   "metadata": {
    "colab": {
     "base_uri": "https://localhost:8080/",
     "height": 297
    },
    "colab_type": "code",
    "id": "rSKZAmw57xa4",
    "outputId": "94e8244c-4582-4cac-a51c-132c287ea1f5"
   },
   "outputs": [
    {
     "name": "stdout",
     "output_type": "stream",
     "text": [
      "Length Words: 26838\n",
      "Length Unique words: 5141\n",
      "\n",
      "       Words: ['project', 'gutenbergs', 'alices', 'adventures', 'in', 'wonderland', 'by', 'lewis', 'carrollthis', 'ebook', 'is', 'for', 'the', 'use', 'of', 'anyone', 'anywhere', 'at', 'no', 'cost', 'and', 'withalmost', 'no', 'restrictions', 'whatsoever', 'you', 'may', 'copy', 'it', 'give', 'it', 'away', 'orreuse', 'it', 'under', 'the', 'terms', 'of', 'the', 'project', 'gutenberg', 'license', 'includedwith', 'this', 'ebook', 'or', 'online', 'at', 'wwwgutenbergorgtitle', 'alices', 'adventures', 'in', 'wonderlandauthor', 'lewis', 'carrollposting', 'date', 'june', '25', '2008', 'ebook', '11release', 'date', 'march', '1994last', 'updated', 'december', '20', '2011language', 'english', 'start', 'of', 'this', 'project', 'gutenberg', 'ebook', 'alices', 'adventures', 'in', 'wonderland', 'alices', 'adventures', 'in', 'wonderlandlewis', 'carrollthe', 'millennium', 'fulcrum', 'edition', '30chapter', 'i', 'down', 'the', 'rabbitholealice', 'was', 'beginning', 'to', 'get', 'very', 'tired', 'of', 'sitting', 'by', 'her', 'sister', 'on', 'thebank', 'and', 'of', 'having', 'nothing', 'to', 'do', 'once', 'or', 'twice', 'she', 'had', 'peeped', 'into', 'thebook', 'her', 'sister', 'was', 'reading', 'but', 'it', 'had', 'no', 'pictures', 'or', 'conversations', 'init', 'and', 'what', 'is', 'the', 'use', 'of', 'a', 'book', 'thought', 'alice', 'without', 'pictures', 'orconversationsso', 'she', 'was', 'considering', 'in', 'her', 'own', 'mind', 'as', 'well', 'as', 'she', 'could', 'for', 'thehot', 'day', 'made', 'her', 'feel', 'very', 'sleepy', 'and', 'stupid', 'whether', 'the', 'pleasureof', 'making', 'a', 'daisychain', 'would', 'be', 'worth', 'the', 'trouble', 'of', 'getting', 'up', 'andpicking', 'the', 'daisies', 'when', 'suddenly', 'a', 'white', 'rabbit', 'with', 'pink', 'eyes', 'ranclose', 'by', 'herthere', 'was', 'nothing', 'so', 'very', 'remarkable', 'in', 'that', 'nor', 'did', 'alice', 'think', 'it', 'sovery', 'much', 'out', 'of', 'the', 'way', 'to', 'hear', 'the', 'rabbit', 'say', 'to', 'itself', 'oh', 'dearoh', 'dear', 'i', 'shall', 'be', 'late', 'when', 'she', 'thought', 'it', 'over', 'afterwards', 'itoccurred', 'to', 'her', 'that', 'she', 'ought', 'to', 'have', 'wondered', 'at', 'this', 'but', 'at', 'the', 'timeit', 'all', 'seemed', 'quite', 'natural', 'but', 'when', 'the', 'rabbit', 'actually', 'took', 'a', 'watchout', 'of', 'its', 'waistcoatpocket', 'and', 'looked', 'at', 'it', 'and', 'then', 'hurried', 'onalice', 'started', 'to', 'her', 'feet', 'for', 'it', 'flashed', 'across', 'her', 'mind', 'that', 'she', 'hadnever', 'before', 'seen', 'a', 'rabbit', 'with', 'either', 'a', 'waistcoatpocket', 'or', 'a', 'watchto', 'take', 'out', 'of', 'it', 'and', 'burning']\n",
      "Unique words: {'upeagerly', 'first', 'theleaves', 'inthis', 'seethat', 'roared', 'hjckrrh', 'worksunless', 'andvanishing', 'neat', 'filled', 'shark', 'means', 'himi', 'evidence', 'itand', 'learning', 'submittedto', 'allthank', 'red', 'yesterday', 'plainly', 'silent', 'hatteralice', 'mightappear', 'rattlingteacups', 'herhead', 'atteatime', 'each', 'busy', 'howdo', 'attached', 'facebrightened', 'croquet', 'jaw', 'tonewhy', '11zip', 'mewell', 'denies', 'couldthe', 'momentthen', 'figure', 'clear', 'myelbowon', 'rules', 'summer', 'andwas', 'tail', 'coolfountainschapter', 'journey', 'busilypainting', 'herfriendwhen', 'crash', 'pennyworth', 'noticedthat', 'nearly', 'unimportant', 'displayingperforming', 'tono', 'knuckles', 'growing', 'singing', '11release', 'conquest', 'wasobliged', 'courtwithout', 'locations', 'curtain', 'like', 'troublemyself', 'advance', 'accordancewith', 'talethey', 'has', 'legalfees', 'littlequeer', 'whichway', 'permitted', 'cherrytart', 'nonsensethe', 'mockturtleso', 'herselfat', 'ink', 'variations', 'threwa', 'refused', 'treading', 'mustmake', 'living', 'explain', 'willremain', 'dayive', 'deepwelleither', 'jar', 'still', 'joined', 'held', 'madbut', 'cautiously', 'fit', 'easily', 'rathole', 'executed', 'table', 'lookof', 'accidentally', 'grinned', 'sobbingshe', 'rightly', 'asmousetraps', 'toits', 'temperare', 'reallydreadful', 'agreementbefore', 'toreceive', 'signify', 'imagine', 'anxiousalice', 'flame', 'herebefore', 'finishing', 'itbegan', 'beforeoh', 'wrapping', 'stretching', 'night', 'widest', 'second', 'if', 'works1a', 'nothingnobody', 'anydispute', 'hate', 'minuteor', 'ishall', 'thebirds', 'thank', 'sun', 'small', 'chokedwith', 'withina', 'lived', 'thereseemed', 'girl', 'quickerwhat', 'alobster', 'neverexecutes', 'care', 'repeated', 'musicand', 'isyou', 'handswondering', 'behind', 'being', 'howeverwhen', 'onthen', 'implied', 'sobslastly', 'inwhich', 'necessarilykeep', 'pooralice', 'perfectly', 'coilswhat', 'andrabbits', 'discontinue', 'whistle', 'queenordering', 'tumbling', 'join', 'is', 'poured', 'swamp', 'nonsensealice', 'call', 'finishedmy', 'firsthold', 'asea', 'permission', 'great', 'nothing', 'choked', 'thewindow', 'goodthat', 'donations1', 'therighthand', 'onwe', 'thebreadandbutterjust', 'lasted', 'beginagain', 'reply', 'personal', 'witha', '1', 'eel', 'littlebefore', 'acopy', 'timeperhaps', 'playing', 'thatit', 'andoh', 'readabout', 'ithadnt', 'airas', 'push', 'luckily', 'worry', 'killing', 'muchnessdid', 'notice', 'hecertainly', 'courteverybody', 'reports', 'acushion', 'spokeunimportant', 'othersyoud', 'bybeing', 'literaryarchive', 'muttered', 'inquired', 'surpriseof', 'emphasis', 'thewood', 'unimportantalice', 'pulling', 'dayno', 'shakespeare', 'quiteout', 'growling', 'themof', 'unless', 'collected', 'school', 'alicecoming', 'hatters', 'ladhere', 'appearing', 'closeto', 'lizard', 'manyteathings', 'glovesand', 'dare', 'secondly', 'guests', 'trademark', 'slipperyand', 'quarrellingall', 'thenunrolled', 'fountains', 'arms', 'screaming', 'yawned', 'flurry', 'dinahll', 'content', 'anxiously', 'thewig', 'herhand', 'theresnothing', 'long', 'listened', 'breach', 'cookthe', 'speaker', 'eyesfilled', 'togo', 'faint', 'tortoise', 'creatures', 'proprietary', 'arruman', 'miceoh', 'subject', 'onwithout', 'takemore', 'caterpillarwell', 'voicenot', 'interest', 'onlikely', 'countries', 'game', 'shrieked', 'alicechapter', 'wild', 'goalice', 'bear', 'vote', 'powdered', 'gratefully', 'highest', 'understand', 'grunted', 'wentdown', 'thensaying', 'sizes', 'rabbitholealice', 'registered', 'camedifferent', 'lessthan', 'dobats', 'upand', 'ofauthority', 'kingnearly', 'thatkind', 'shilling', 'duchesshush', 'well', 'lefthand', 'thinki', 'at', 'otherswe', 'songoh', 'payments', 'wewont', 'cutting', 'gutenbergtm', 'veryuncomfortable', 'stairsthat', 'air', 'comes', 'questionadded', 'footmans', 'performances', 'walked', 'pat', 'diggingfor', 'examining', 'special', 'impliedwarranties', 'friendsshared', 'whiterabbit', 'limbs', 'poolshecould', 'prepare', 'orentity', '4', 'law', 'otherchildren', 'located', 'large', 'coming', 'shell', 'exemptstatus', 'eager', 'ratherinquisitively', 'notifies', 'howling', 'andaway', 'duckfound', 'gladthere', 'turnup', 'remedies', 'notoh', 'violently', 'voiceto', 'sheremembered', 'issubject', 'sittingbetween', 'breatheit', 'damagesif', 'andwag', 'petdinahs', 'veryshort', 'woke', 'within', 'detach', 'never', 'discovered', 'edwin', 'slatepencil', 'bythefrightened', 'nowits', 'hisnormans', 'croqueting', 'brought', 'nowise', 'gotits', 'righthand', 'sulkilyremarked', 'entrance', 'producing', 'exclaimed', 'bythe', 'dullyou', 'cheeks', 'she', 'sing', 'creature', 'theproposalthen', 'askedwe', 'hisremark', 'compliance', 'drive', 'fond', 'ah', 'declared', 'alice', 'waythat', 'lowingof', 'howlingalternately', 'replace', 'hed', 'originator', 'haventgot', 'bookbut', 'andall', 'upontiptoe', 'adefect', 'ask', 'dinah', 'porpoise', 'orreuse', 'spokeas', 'whose', 'knowit', 'togetheronly', 'require', 'andthey', 'riddle', 'its', 'ou', 'postedwith', 'maynt', 'turtlehold', 'hereand', 'reallyim', 'sorry', 'governwhat', 'jurymen', 'roast', 'thinand', 'limited', 'nowbut', 'silenceits', 'learn', 'herway', 'dive', 'meeting', 'cackled', 'ways', 'removed', 'impatientlyany', 'iget', 'rudeness', 'saucer', 'secondtime', 'frightenedtone', 'dears', 'from', 'shrink', 'theyyouve', 'gutenbergs', 'riper', 'instead', 'four', 'used', 'pleasanter', 'withtheir', 'strength', 'led', 'serpentit', 'eagerlywrote', 'unjustthings', 'curiosity', 'firstverdict', 'alicethen', 'askedoh', 'contact', 'naturalto', 'fell', 'gotit', 'around', 'gutenbergtmlicense', 'check', 'formabel', 'soon', 'minutesand', 'constant', 'branch', 'verywell', 'byyour', 'panther', 'electronically', 'additions', 'dripping', 'befreely', 'ebook', 'camevery', 'thinking', 'inwonderland', 'atree', 'noises', 'deep', 'tricks', 'againwhich', 'blacking', 'creaturesshe', 'simpletonalice', 'brush', 'copying', 'grin', 'open', 'droppedit', 'youveseen', 'possessionif', 'slowly', 'neither', 'crashedaround', 'expend', 'isas', 'surprise', 'begun', 'timewith', 'wasenough', 'others', 'we', 'alive', 'ofit', 'lookingglass', 'inwards', 'talkingjust', 'group', 'jogged', 'was', 'rememberedthe', 'tearsrunning', 'hare', 'purpose', 'muscular', 'thensaid', 'loveliest', 'myselfhave', 'ifi', 'grief', 'you', 'dance', 'performed', 'sevenyes', 'understood', 'butteryou', 'sorrowfultone', 'beliable', 'future', 'highbut', 'lookingat', 'hatteri', 'got', 'distribute', 'wasthe', 'complained', 'whom', 'wontdo', 'simplyarranged', 'intellectualproperty', 'shecould', 'glanced', 'executiononce', 'itto', 'boy', 'onthe', 'line', 'workor', '30', 'wwwgutenbergorgyou', 'bothcreatures', 'curiousits', 'withgreat', 'volunteer', 'caterpillarthat', 'forwards', 'aliceoff', 'judging', 'dontthinkthen', 'shillings', 'he', 'beloved', 'theothers', 'picked', 'providedthat', 'closely', 'guineapig', 'distribution', 'hundreds', 'andbehind', 'butterfly', 'answer', 'elseleave', 'machine', 'herselfwould', 'liveryotherwise', 'notappear', 'fishes', 'o', 'grant', 'library', 'provided', 'afrog', 'audiblywhat', 'twice', 'went', 'sobbed', 'bowing', 'sternly', 'earnestlyive', 'patiently', 'insteadchapter', 'up', 'doeswhich', 'spades', 'thetwentieth', 'literary', 'absurd', 'laws', 'sulkily', 'mistake', 'seem', 'tryingto', 'barrowful', 'shrillcries', 'trial', 'hearthrug', 'neverand', 'brothers', 'meaning', 'andhelp', 'thepermission', 'directed', 'nibbling', 'vinegar', 'argued', 'arminarm', 'excellent', 'foot', 'ahoarse', 'federal', 'duchesss', 'cry', 'pleased', 'dormouseturned', 'ofall', 'creep', 'favourite', 'losing', 'wood', 'inshe', 'grumbledyou', 'changed', 'hundred', 'glassfrom', 'decidedly', 'myshoulders', 'ventured', 'longed', 'writhing', 'course', 'anyproject', 'signifies', 'tolook', 'pointed', 'saideverybody', 'tonealice', 'quick', 'goafter', 'multiplication', 'circumstancesthere', 'domain', 'angryabout', 'listen', 'pictured', 'confirmation', 'a', 'kitchen', 'oflullaby', 'low', 'though', 'unlocking', 'produce', 'song', 'sostingy', 'non', 'go', 'shock', '90', 'treaclewelltheres', 'out', 'melancholytone', 'let', 'billfrench', 'did', 'hurry', 'awaycome', 'whatmakes', 'goldfish', '1e1', 'picturesof', 'introduce', 'thenshe', 'weak', 'nextitsits', 'williams', 'juryif', 'plain', 'invalidity', 'inside', 'intoher', 'latelythat', 'proud', 'thismoment', 'asherself', 'appears', 'what', 'wept', 'eating', 'thoughtalice', 'coursewhat', 'listeners', 'plenty', 'send', 'ithad', 'foundation', 'quiet', 'heardit', 'chinive', 'proofreadpublic', 'stand', 'wentone', 'wriggling', 'wretched', 'tellus', 'tunnel', 'aconsultation', 'underneath', 'feet', 'lamps', 'generallygave', 'agreat', 'dogs', 'shantgrow', 'yelp', 'carefully', 'leaning', 'dormouse', 'shiftingfrom', 'yourverdict', 'computers', 'credit', 'michael', 'also', 'aliceim', 'fireirons', 'calculate', 'giving', 'acomputer', 'thendipped', 'togetheralice', 'tiredof', 'laid', 'dormousedont', 'works', 'herethat', 'work', 'past', 'oh', 'kingon', 'hisslate', 'gutenbergtmconcept', 'together', 'hurtthe', 'seated', 'draggled', 'moderate', 'makingquite', 'sprawling', 'rubbingits', 'straightened', 'phrase', 'sneezing', 'ein', 'moresimplynever', 'pages', 'andshouting', 'lock', 'hiswhiskersfor', 'mustgo', 'gryphonthen', 'demand', 'thehookah', 'neighbour', 'pigeon', 'common', 'cheap', 'concertgiven', 'affair', 'commotion', 'themim', 'argument', 'queenfirst', 'thinkyoure', 'wheres', 'nose', 'fast', 'attempted', 'sorts', 'knife', 'serpents', 'newsletter', 'these', 'unhappy', 'itwell', 'repeatedin', 'lake', 'dinner', 'grow', 'tochange', 'players', 'fumbled', 'drowned', 'difficult', 'croquetgrounda', 'shewent', 'beautify', 'camenearer', 'hedgehogthe', 'thenafter', 'surprised', 'haremoved', 'patted', 'mydear', 'bother', 'withoutmaybe', 'itwas', 'itself', 'neednt', 'whispersnow', 'otherwisethan', 'family', 'firstthats', 'violence', 'flat', 'fair', 'obsolete', 'stockings', 'mark', '646221541', 'wordsyes', 'birdstittered', 'atany', 'outdated', 'stay', 'hermouth', 'choice', 'tableshe', '1e', 'itwhy', 'shouting', 'allover', 'thefan', 'flavourof', 'whowere', 'stigandthe', 'hersharp', 'trusts', 'forgotten', 'taughtlaughing', 'deletions', 'livesall', 'place', 'supportproject', 'tohow', 'dreamed', 'donations', 'aliveshe', 'foundationproject', 'immediateaccess', 'required', 'prisoner', 'itas', 'least', 'wereanimals', 'donationsto', 'knowwhat', 'sfairbanks', 'hatedcats', 'absence', 'salt', 'pointingwith', 'fan', 'officer', 'curving', 'emailbusinessorg', 'furrow', 'forfear', 'followed', 'moments', 'facti', 'oneleft', 'clinging', 'pictureshung', 'personsoon', 'position', 'pigbabywas', 'glass', 'theseashoretwo', 'made', 'magpie', 'morsel', 'heartsalice', 'here', 'andthose', 'exporting', 'thefoundation', 'ifancywhos', 'atom', 'leaders', 'off', 'hareexactly', 'kick', 'jaws', 'furiously', 'types', 'united', 'gravely', 'alicethought', '801', 'atelescopeand', 'whenever', 'hatec', 'cool', 'identificationnumber', 'alongcatch', 'spite', 'shewaited', 'unable', 'her', 'marched', 'indirectly', 'feesthat', 'farmyardwhile', 'alittle', 'ornamentedwith', 'hadnever', 'come', 'alicecome', 'changes', 'soshall', 'march', 'shorterone', 'based', 'histail', 'noise', 'voice', 'hadknown', 'id', 'telescopes', 'littleanimals', 'doill', 'haresixteenth', 'laughed', 'dr', 'wish', 'till', 'thewords', 'tears', 'kept', 'turtleno', 'provisions1f6', 'tight', 'computersincluding', 'itseyes', 'mad', 'remarkable', 'turtle', 'whatit', 'fits', 'silencealice', 'useful', 'mississippi', 'unenforceability', 'in', 'othersaying', 'inquestions', 'tillshe', 'right', 'anywhere', 'instantly', 'moved', 'leap', 'archbishop', 'itsomething', 'sayingtell', 'projectgutenberg', 'dearsaid', 'wholewindowsure', 'cause', 'curly', 'blew', 'between', 'refund', 'performing', 'nonsensei', 'pause', 'athing', 'knowits', 'thisshe', 'terror', 'particularhere', 'frowning', 'feel', 'station', 'heri', 'beginning', 'theofficers', 'perhaps', 'piecrust', 'seriously', 'wrong', 'toto', 'ours', 'stopping', 'accident', 'ridge', 'bemurder', 'sister', 'soand', 'outloudthinking', 'dark', 'askit', 'sixpence', 'pardon', 'deadleaves', 'flying', 'truthdid', 'caterpillaralice', 'silentthe', 'muchaccustomed', 'kill', 'possibly', 'tonethough', 'propertytrademarkcopyright', 'squeezed', 'allthe', 'thephrase', 'inclined', 'works1e9', 'thesentence', 'c', 'couldpossibly', 'thingas', 'laughter', 'makes', 'houses', 'than', 'pressed', 'saythings', 'givebirthday', 'wasgrowing', 'morehopeless', 'edge', 'fryingpan', 'guineapigs', 'wereresting', 'address', 'screamed', 'pretty', 'ortwothey', 'rabbitinterrupted', 'comfort', 'alonei', 'spoke', 'doing', 'anyadvantage', 'whitingoh', 'werenearly', 'elect', 'remarked', 'puppys', 'invited', 'sure', 'arithmeticambitiondistraction', 'mystery', 'saw', 'twinkling', 'aminute', 'happy', 'strictliability', 'pattern', 'youd', 'printed', 'expected', 'rosetree', 'beheaded', 'unusuallylarge', 'anythingto', 'beit', 'dreadfullypuzzled', 'meant', 'panted', 'numerous', 'wasvery', 'contemptuously', 'return', 'license1e6', 'herdaughter', 'ahint', 'againmine', 'put', 'itfirst', 'binarycompressed', 'uncomfortable', 'closed', 'taken', 'm', 'incessantly', 'aliceof', 'rabbitholeand', 'unsolicited', 'hart', 'dogsit', 'promising', 'hes', 'puzzlingabout', 'indicate', 'thoughts', 'crimson', 'explainyourselfi', 'thoseserpents', 'shorttime', 'through', 'wonderful', 'boyand', 'nowif', 'easy', 'peering', 'fancied', 'fromboth', 'thiswas', 'however', 'expressingyourselfthe', 'leave', 'whiskers', 'hoping', 'belongs', 'eyes', 'noseand', 'saidget', 'getto', 'notebook', 'queerlooking', 'concept', 'ranto', 'melan', 'eels', 'juror', 'thisropewill', 'brain', 'outat', 'meansi', 'ita', 'didnt', 'hurt', 'solicitation', 'gryphon', 'pray', 'somethingiim', 'doneonce', 'pass', 'pity', 'clubs', 'buttons', 'concert', 'seai', 'andpicking', 'sightalice', 'rushed', 'speechyou', 'butwhy', 'beating', 'pattering', 'gutenberg1e1', 'themselvesup', 'stoop', 'alone', 'please', 'sigh', 'mousea', 'w', 'murdering', 'itstays', 'hush', 'bursting', 'onetime', 'method', 'lazily', 'brightened', 'nice', 'remembered', 'longhookah', 'obstacle', 'isalmost', 'awritten', 'ought', 'witnesswell', 'hour', 'generally', 'souptheres', 'stickand', 'mice', 'returning', 'stalk', 'toask', 'undertone', 'choke', 'goinginto', 'man', 'toalice', 'morning', 'mock', 'slipped', 'proved', 'teapotat', 'insaying', 'vegetable', 'whenalice', 'theearth', 'indignantly', 'remarkedthere', 'checked', 'voicenow', '5', 'thecourt', 'relieved', 'tastetheirs', 'fall', 'witnessthe', 'agree', 'alicewhos', 'wine', 'flowerbeds', 'couldnt', 'anyone', 'nightairdoesnt', 'spokealice', 'shrimp', 'accusation', 'transcription', 'fittedalice', 'yours', 'notescape', 'knowwho', 'hastilyi', 'fitness', 'miss', 'tipped', 'house', 'rate', 'five', 'handand', 'ingreat', 'louder', 'machines', 'salmon', 'anxious', 'thoughtit', 'inkstand', 'herchildhood', 'knee', 'supple', 'three', 'est', 'row', 'crowd', 'daisychain', 'blows', 'theydhave', 'usespeaking', 'sunif', 'jurybox', 'wouldkeep', 'finding', 'trembled', 'lobstersto', 'mouseo', 'smallbut', 'garden', 'acucumberframe', 'xi', 'onlyyou', 'escape', 'fourteenth', 'ordering', 'hatterit', 'lookingup', 'ago', 'names', 'patientlyonce', 'greatquestion', 'prevent', 'queerest', 'afraid', 'catching', 'cushion', 'follow', 'boldly', 'falling', 'scream', 'copies', 'puzzling', 'forgetting', 'girls', 'crying', 'v', 'dreadfullyfond', 'theyall', 'asksuppose', 'mustbe', 'loseyour', 'oysteri', 'herwhat', 'there', 'anythingyou', 'onethere', 'less', 'broke', 'new', 'againsuddenly', 'treacle', 'saidat', 'heretill', 'goodnaturedly', 'holding', 'usual', 'lady', 'merchantibility', 'arumbling', 'seeparagraph', 'profit501c3', 'it', 'succeeded', 'six', 'inhis', 'dispute', 'sheturned', 'momentshe', 'taxes', 'wayoff', 'trickling', 'treeby', 'thingafter', 'beexecuted', 'knowhe', 'drawlingthe', 'youexecuted', 'files', 'gutenbergliterary', 'double', 'viewing', 'drink', 'pretend', 'cant', 'ear', 'eagerly', 'fixed', 'isno', 'shekept', 'quicklythat', 'commercialredistribution', 'mouses', 'welcome', 'itoccurred', 'melancholy', 'littlesnappishly', 'shyly', 'longenoughalice', 'ofliving', 'boon', 'difficulty', 'likely', 'andfeebly', 'chin', 'herpocket', 'most', 'happenedhow', 'tiptoe', 'fightwas', 'duchessoh', 'maps', 'aliceonly', 'youcant', 'avoid', 'insolence', 'stirringa', 'aninvitation', 'voicetheres', 'soup', 'fun', 'refreshments', 'gbnewbyorgsection', 'methats', 'desperately', 'latitude', 'express', 'thingsat', 'wentnearer', 'classics', 'does', 'andjust', 'thegryphonhow', 'cardsat', 'dropping', 'top', 'saypresently', 'poky', 'cut', 'lovetis', 'alicereeling', 'took', 'manner', 'teaching', 'sharplittle', 'additional', 'whatcan', 'yeta', 'thirteen', 'longershe', 'eats', 'youhave', 'cheered', 'windowsure', 'land', 'takes', 'eyesand', 'same', 'uponrequest', 'earth', 'lewis', 'disobey', 'readily', 'teacup', 'solicit', 'scroll', 'list', 'none', 'throatsaid', 'frightened', 'assembled', 'considering', 'sky', 'circle', 'this', 'thing', 'atyou', 'alicewhy', 'andadded', 'pretending', 'doorleading', 'thebank', 'flapper', 'dead', 'hands', 'suppress', 'besides', 'putdown', 'werent', 'heard', 'youwhich', 'fromone', 'aneggi', 'attempt', 'ending', 'wise', 'railway', 'passage', 'youare', 'crowdedround', 'satdown', 'cards', 'them', 'ofputting', 'upstairs', 'forsome', 'chorus', 'leantagainst', 'feeling', 'hurrying', 'goodthing', 'saidnothingwhen', 'nearer', 'tremulous', 'grew', 'ugly', 'rulefortytwo', 'creaturesof', 'wouldyou', 'gutenbergtmcollection', 'halfthose', 'which', 'rapped', 'inan', 'lizardas', 'will', 'fearof', 'since', 'pigeonbut', 'hell', 'wake', 'hiss', 'gardenalice', 'calmlythough', 'theirforepaws', 'minutesthe', 'hottemperedshe', 'fear', 'longringlets', 'buttercup', 'eggs', 'afterwards', 'theother', 'mournfully', 'upona', 'anoccasional', 'ground', 'before', 'messages', 'butter', 'tolisten', 'pictures', 'fluttered', 'survive', 'herebut', 'havent', 'untwist', 'soundsuncommon', 'sent', 'orconversationsso', 'altogether', 'herage', 'illalice', 'hadnot', 'thanplain', 'dreamysort', 'decided', 'canterbury', 'fireplace', 'whichwas', 'feltthat', 'aloneserpent', 'sneezingthere', 'knowso', 'wonder', 'larger', 'themall', 'bowed', 'wondering', 'me', 'wasonly', 'trotting', 'thenand', 'maybe', 'rowof', 'heels', 'snout', 'withpassion', 'darkness', 'room', 'whats', 'hearda', 'notmyself', 'ina', 'nonproprietary', 'offer', 'employee', 'inone', 'againthis', 'queeni', 'likeyou', 'or1e91e3', 'nurse', 'seeing', 'shesaid', 'lifeshe', 'velvet', 'thenumber', 'contemptuouslyi', 'fordays', 'makesome', 'sothat', 'alicewell', 'andsaid', 'sheappeared', 'carthorse', 'merrily', 'hastilybegan', 'belong', 'weve', 'voiceback', 'story', 'delight', 'shouldnt', 'enormous', 'my', 'thoughtto', 'pie', 'towarranties', 'watched', 'ofconversation', 'verycarefully', 'sortnext', 'growingtooyes', 'ebooks', 'beganin', 'rather', 'sobs', 'welltake', 'goingdown', 'walks', 'ishould', 'banquetwhat', 'brave', 'across', 'topsof', 'fur', 'cunning', 'feathers', 'knowthat', 'hisfancy', 'condemn', 'attends', 'fallen', 'beinterpreted', 'cost', 'gryphonit', 'calledthe', 'suppose', 'largeas', 'voicesall', 'grand', 'foolish', 'giddyall', 'aliceexactly', 'saidaliceand', 'saidthe', 'ofmercia', 'beguntheyre', 'destroyall', 'deal', 'already', 'user', 'teases', 'entirelydisappeared', 'begantalking', 'tell', 'knewwhether', '25', 'general', 'neverthey', 'donenow', 'contemptuous', 'athome', 'shallthink', 'alouddo', 'doi', 'wore', 'uniform', 'wasgoing', 'notmuch', 'guess', 'nowhere', 'whatyear', 'acandle', 'wwwgutenbergorgtitle', 'thepigeon', 'repliedof', 'speak', 'appeared', 'smiled', 'and', 'forgot', 'littletis', 'roomagain', 'picking', 'modification', 'fourthousand', 'hasnt', 'turns', 'lovely', 'riddles', 'ofthingseverything', 'muchnessyou', 'received', 'sounded', 'concluded', 'shouldthink', 'theproject', 'doubledup', 'happened', 'solemnly', 'withits', 'mindsaid', 'footman', 'anyword', 'noone', 'reachit', 'positively', 'arrow', 'to', 'thestate', 'owner', 'with', 'people', 'youreceived', 'dormouseturn', 'editionswill', 'month', 'dunce', 'banks', 'splashed', 'askedthat', 'fish', 'rises', '1e7', 'aholidayof', 'how', 'theothersare', 'available', 'hard', 'queenthe', 'answeri', 'fork', 'barleysugar', 'grazed', 'fishfootman', 'thenwhat', 'labelled', 'largest', 'itsarms', 'only', 'lobsters', 'thebook', 'tarts', 'interruptinghim', 'time', 'hangingfrom', 'itwould', 'laterhowever', 'donext', 'inher', 'front', 'copiedand', 'angry', 'rosesgrowing', 'facevery', 'swallow', 'flamingo', 'into', 'orcorrupt', 'bound', 'beatingnow', 'speaknot', 'format', 'existence', 'hadnt', 'withalice', 'instance', 'doors', 'wigthe', 'notim', 'whoagree', 'anindividual', 'raised', 'entirely', 'locked', 'timid', 'hadplenty', 'dodothen', 'animal', 'madat', 'didnot', 'itonce', 'ofsight', 'tillie', 'offended', 'volunteers', 'mouse', 'goingthrough', 'tellyou', 'itthis', 'upset', 'restrictions', 'sticks', 'toostiff', 'stood', 'fancy', 'choosing', 'little', 'thative', 'warranty', 'makesrather', 'recovered', 'seeneverything', 'grins', 'fetch', 'puss', 'hatteryou', 'centre', 'ann', 'work1e4', 'receiving', 'grinwithout', 'thought', 'earls', 'adding', 'jurors', 'lap', 'venture', 'itthey', 'hispocket', 'knowno', 'letternearly', 'andafter', 'archesthe', 'theyarrived', 'threegardeners', 'sluggard', 'dopractically', 'mouthsand', 'accessible', 'solemn', 'thisalice', 'figuresand', 'violentblow', 'thatto', 'playcroquet', 'thati', 'knowalice', 'chanced', 'file', 'reported', 'ready', 'hesperfectly', 'faces', 'wentso', 'familiarly', 'learnlessons', 'keep', 'providingaccess', 'otherwisei', 'timeso', 'childlife', 'loveoh', 'timidly', 'hurriednervous', 'itlast', 'slateherald', 'angryand', 'tartson', 'puzzle', 'againplease', 'flashed', 'intellectual', 'promoting', 'thecrown', 'synonymous', 'tureen', 'get', 'triedvery', 'downwards', 'ornamented', 'alicereplied', 'begin', 'live', 'gained', 'sovery', 'completelyvery', 'saves', 'exactshape', 'lifevolunteers', 'speakand', 'pack', 'tasteit', 'turkey', 'cantbe', 'choicethe', 'longway', 'ofmy', 'deeply', 'proceed', 'instanceif', 'strange', 'pepperfor', 'invitedyetyoull', 'ancient', 'dodo', 'frompeople', 'wellwhat', 'supposeyes', 'mean', 'name', 'children', 'fills', 'wags', 'thepack', 'posted', 'because', 'punitive', 'fulcrum', 'kettle', 'zealand', 'terribly', 'fifthbend', 'raising', 'afunny', 'eagerlythats', 'turtlesheavy', 'tones', 'sodesperate', 'sell', 'lifebefore', 'kind', 'isoh', 'herswould', 'gutenbergtmproject', 'withdinah', 'andreduced', 'something', 'quiver', 'secret', 'ofthe', 'ofmeaning', 'holder', 'twinkletwinkle', 'theway', 'thatits', 'elegantthimble', 'quitepleased', 'mwhy', 'threwthemselves', 'games', 'tis', 'pleaseyour', 'hesays', 'alicei', 'evenwith', 'smalloff', 'entity', 'sometimes', 'minea', 'taught', 'puzzled', 'rest', 'except', 'thatby', 'addition', 'madehe', 'could', 'pool', 'rush', 'ohmy', 'have', 'whatever', 'changing', 'failure', 'yourself', 'mewhether', 'aboutand', 'processions', 'muchnessreally', 'wanderedabout', 'haveyou', 'water', 'werenowhere', 'fury', 'youve', 'yer', 'i', 'drop', 'yourelooking', 'tougher', 'ranclose', 'avery', 'istake', 'thanked', 'ofnothing', 'obtaining', 'even', 'wingsserpent', 'licking', 'gave', 'happensshe', 'dormousewrite', 'prizesbut', 'putting', 'largeflowerpot', 'yougrow', 'fairly', 'spokea', 'indemnity', 'suppressedcome', 'processing', 'feesor', 'outof', 'fieldafter', 'thearch', 'locationswhere', 'fondofof', 'knock', 'patience', 'againi', 'clean', 'crocodile', 'anything', 'croqueted', 'involved', 'lookinganxiously', 'gardeners', 'rippling', 'shebegan', 'thekingi', 'critical', 'regular', 'knelt', 'without', 'inches', 'bottle', 'itthat', 'office', 'gone', 'waslying', 'prize', 'hatterhere', 'impertinent', 'roundsomebody', 'kingthe', 'dreamdear', 'imposed', 'spokefancy', 'replied', 'whatthis', 'beor', 'gravethat', 'grey', 'interrupted', 'jurynot', 'lonely', 'platealice', 'thatqueer', 'hurriedly', 'womanbutthenalways', 'annoyed', 'world', 'gallons', 'includedwith', 'round', 'expecting', 'paused', 'uncomfortablethe', 'remarking', 'histories', 'childthe', 'provide', 'workwith', 'slatesand', 'seehow', 'public', '2011language', 'book', 'outside', 'meat', 'mightwhat', 'sad', 'online', 'thedoorway', 'sistersthey', 'turtlecertainly', 'laughedlet', 'hoarsegrowl', 'andsee', 'elsebut', 'branches', 'places', 'otherways', 'injure', 'sudden', 'furtherso', 'ones', 'init', 'fanning', 'whisper', 'bark', 'itmakes', 'youcome', 'replacement', 'quadrillethe', 'hoarselyall', 'hareit', 'pinched', 'tookthe', 'hurried', 'cleared', 'mostly', 'farther', 'ring', 'treatment', 'furrows', 'underher', 'overthe', 'recognised', 'make', 'sadly', 'iusedand', 'balls', 'internalrevenue', 'aliceive', 'greatmany', 'itstail', 'key', 'awfully', 'uneasily', 'toneand', 'hersshe', 'sending', 'fees', 'editionmost', 'courtiers', 'highi', 'treaclewelleh', 'executioners', 'trialone', 'june', 'lastedthen', 'shoes', 'nothingperhaps', 'thenif', 'duchessyoud', 'soupchorus', 'maykiss', 'consider', 'door', 'vi', 'orincidental', 'amemorandum', 'widespread', 'manydifferent', 'inthe', 'spoken', 'soldier', 'proves', 'reallyclever', 'memory', 'dreadful', 'close', 'impossibleto', 'angrily', 'loudly', 'littlescream', 'try', 'allwash', 'wanted', 'other', 'died', 'specific', 'irsthe', 'hurryyou', 'goingon', 'nobodymovedwho', 'itsage', 'queentheir', 'described', 'bestsome', 'shant', 'persisted', 'duchess', 'resting', 'things', 'beenjumping', 'business', 'intothe', 'threeyour', 'solemnlypresented', 'moon', 'tocopying', 'gather', 'thatfor', 'thinkdinah', 'sucha', 'remarks', 'iii', 'verses', 'youth', 'respectful', 'thatll', 'supposeso', 'dear', 'isi', 'themout', 'shethought', 'kinghere', 'everybody', 'iwont', 'woman', 'againyou', 'verycautiously', 'severely', 'musicah', 'beasts', 'ut', 'remarktut', 'waterwell', 'scrambling', 'humble', 'meal', 'waitedtill', 'someexecutions', 'endend', 'contract', 'knowthe', 'cupboards', 'thingsits', 'splendidly', 'chatte', 'letter', 'clearer', 'porpoisewouldnt', 'of', 'feetfor', 'oneverybody', 'afishand', 'immense', 'once', 'coaxing', 'annoy', 'times', 'blasts', 'diligently', 'statements', 'wentonce', 'window', 'passing', 'lacie', 'crashnow', 'considered', 'distributedthis', 'ferrets', 'littlebirds', 'north', 'setting', 'loving', 'tosubscribe', 'lifethe', 'theyre', 'knew', 'hadnibbled', 'staring', 'computer', 'childrensweettempered', 'representations', 'latitudeor', 'wouldbe', 'andthere', 'evidencehere', 'thatlooked', 'french', 'onlyyesterday', 'curiosityits', 'soldierswho', 'life', 'certain', 'noticed', 'somewheredown', 'aslong', 'specified', 'shefelt', 'betterid', 'experiment', 'teathe', 'lesson', 'aim', 'ofrule', 'remarkedbecause', 'effectand', '1e11e7', 'slightest', 'web', 'sitting', 'downlooking', 'sink', 'thefishfootman', 'accounting', 'forget', 'herselfhastilyi', 'dismay', 'herthere', 'sound', 'extraordinary', 'finish', 'opinion', 'plates', 'dinneri', 'thetrademark', 'mixed', 'verylonely', 'knowand', 'an', 'print', 'warning', 'ive', 'andevery', 'hearts', 'nobody', 'hollow', 'pencil', 'nosethe', 'withalmost', 'onethe', 'togetherwhich', 'somebody', 'greathurry', 'goto', 'andcalled', 'topof', 'wooden', 'invitation', 'dropped', 'copyis', 'efforts', 'tucked', 'youim', 'everymoment', 'tide', 'neighbouring', 'reason', 'retire', 'juryall', 'quite', 'otherbillfetch', 'bebeheaded', 'pointing', 'electronic', 'data', 'rubbing', 'hadslipped', 'younot', 'allliability', 'adventuresof', 'but', 'haddrunk', 'headover', 'unfortunate', 'tiny', 'mary', 'precious', 'aboutread', 'played', 'teacups', 'accepting', 'piece', 'thunder', 'thanbefore', 'closer', 'leavethe', 'do', 'onand', 'encouraged', 'crept', 'electronicworksprofessor', 'shower', 'anxiouslyyes', 'foundout', 'deepestcontempt', 'treat', 'getting', 'curtsey', 'widercome', 'convert', 'poison', 'littleglass', 'saucepans', 'oncein', 'below1f1f1', 'harealice', 'sits', 'viewedcopied', 'theyrea', 'allow', 'turtlewe', 'officers', 'happen', '3', '1e8', 'soonahem', 'bright', 'chance', 'feeble', 'isposted', 'herein', 'ordered', 'ashower', 'fender', 'againkeep', 'overalice', 'alicethats', 'thiselectronic', 'official', 'trampled', 'makeany', 'downward', 'rabbits', 'helplesssort', 'wellthe', 'yes', 'slowlybeginning', 'fanned', 'serpentbut', 'herselfrather', 'educationsin', 'replythats', 'ridges', 'wondered', 'flowers', 'active', 'whether', 'suit', 'workto', 'ran', 'oblong', 'globe', 'repliedyes', 'footstepsand', 'stool', 'had', 'fanciedshe', 'whoever', '4and', 'checks', 'grammar', 'date', 'encourage', 'accessed', 'by', 'managing', 'shutting', 'thenturning', 'gryphonthe', 'remember', 'diethe', 'minuteand', 'headbrandynowdont', 'daysbut', 'oftrouble', 'distributionmust', 'voiceare', 'saidto', 'authority', 'whisperthat', 'teanot', 'wouldcost', 'puppy', 'archive', 'voiceand', 'inabout', 'happening', 'beds', 'few', 'viii', 'theconversation', 'thenbills', 'purplei', 'conclusion', '1e1through', 'livesthere', 'beforei', 'toss', 'spellstupid', '501c3', 'sit', 'thereason', 'full', 'drawyou', 'x', 'trouble', 'queer', 'makesthem', 'gryphonyou', 'bitterandand', 'bleeds', 'andmake', 'exclusion', 'thoroughly', 'effort', 'itsa', 'bit', 'roof', 'ofthemselveshow', 'otherladderwhy', 'visit', 'ravens', 'nodded', 'theaccident', 'perhapsive', 'requirements', 'realturtlethese', 'intoa', 'thoseprovided', 'redistribution', 'saidi', 'anygood', 'schoolroom', 'thelittle', 'andwashing', 'turningto', 'starfish', 'chief', 'suet', 'withdiamonds', 'ceilingand', 'shiveri', 'question', 'notanswer', 'owl', 'hunting', 'transcribe', 'fee', 'agony', 'redistributing', 'age', 'birds', 'frogfootman', 'support', 'toffee', 'shorechapter', 'existsbecause', '5000', 'thegroundand', 'voiceshold', 'thewind', 'andfour', 'knownot', 'ii', 'lessonsthought', 'growingand', 'tasted', 'practice', 'bad', 'oneone', 'milkjug', 'aliceyou', 'remarkeddont', 'helped', 'throne', 'smallshe', 'youany', 'steamengine', 'lory', 'herselfi', 'thousand', 'doubtfully', 'alicehad', 'slateoh', 'week', 'watchto', 'equipment', 'doori', 'watching', 'punished', 'parchment', 'next', 'pepper', 'antipathies', 'missed', 'herselfits', 'alicewhat', 'permanent', 'andi', 'orange', 'conduct', 'variety', 'manage', 'courtwith', 'christmasand', 'thequeen', 'herhands', 'turtlereplied', 'uneasy', 'hearoneself', 'doubling', 'us', 'hadntdrunk', 'adventuresbeginning', 'togrow', 'pieces', 'italoud', 'ofevery', 'lot', 'furtheropportunities', 'or', 'feelings', 'nobusiness', 'undoing', 'doanything', 'iti', 'therewas', 'floor', 'lower', 'itpresently', 'ared', 'twenty', 'derivative', 'gonewell', 'stoppedhastily', 'wwwgutenbergorg1e2', 'wordsso', 'impatiently', 'seven', 'howled', 'shebore', 'lowtrembling', 'paperlabel', 'mallets', 'andthis', 'providing', 'michaelhart', 'wehave', 'eye', 'expenses', 'almost', 'pleasing', 'bawled', 'thesea', 'marmalade', 'ican', 'theplayers', 'thegryphonwell', 'largelettersit', 'cartwheels', 'plan', 'access', 'littlebottle', 'shookits', 'swimmingaway', 'purring', 'start', 'enoughi', 'throughthe', 'toinvent', 'paragraphs', 'their', 'otherform', 'doorpoor', 'tothem', 'isnt', 'defect', 'saucepan', 'justexplain', 'disk', 'pay', 'slates', 'explained', 'doorbut', 'chapter', 'scaly', 'sooner', 'derisioni', 'suchdamage1f3', 'thelaw', 'barking', 'itfelt', 'sideof', 'guineapigsfilled', 'minethe', 'returned', 'wasin', 'shorter', 'hoarse', 'mile', 'references', 'pig', 'shepherd', 'legally', 'race', 'down', 'rememberever', 'surehowever', 'talk', 'produced', 'stupidly', 'dayschool', 'asshe', 'feltsure', 'importantto', 'tomorrowat', 'ioh', 'receipt', 'atthe', 'slowlyand', 'exempt', 'when', 'toget', 'goodbye', 'toabout', 'flamingoes', 'hedgehogs', 'behungry', 'wants', 'themoverthe', 'bee', 'spreading', 'canreceive', 'wrote', 'faceand', 'tonight', 'voicewho', 'particularat', 'youdo', 'tosend', 'rabbitcame', 'belt', 'footget', 'readin', 'france', 'sign', 'signed', 'arelocated', 'hatternor', 'watchout', 'itim', 'crazythe', 'royalties', 'child', 'replyplease', 'ill', 'dancing', 'brighteyed', 'politelyfor', 'heart', 'lives', 'pope', 'thatwell', 'said', 'impossible', 'betweenthe', 'rustled', 'writingdeskcome', 'contactinformation', 'maintaining', 'ever', 'geographylondon', 'named', 'kneel', 'harm', 'suddenly', 'box', 'hatching', 'theirfaces', 'canbut', 'interesting', 'growl', 'kingscrown', 'burstof', 'andsaying', 'afore', 'illget', 'picture', 'charges', 'handsome', '2', 'likethati', 'bring', 'wasntalways', 'neck', 'wink', 'whole', 'physical', 'research', 'purpose1f5', 'elsie', 'justlike', 'beginthe', 'empty', 'found', 'youknow', 'site', 'wouldhave', 'openedtheir', 'anatom', 'royal', 'write', 'timei', 'politely', 'mouseof', 'sage', 'pocket', 'act', 'mischief', 'leaving', 'at809', 'expression', 'cannot', 'iwonder', 'haste', 'main', 'explanationoh', 'andthen', 'wedont', 'real', 'smaller', 'tonotice', 'meyou', 'tobe', 'shelves', 'encouraging', 'australia', 'andtill', 'speech', 'both', 'rosesfive', 'abouther', 'states', 'vulgar', 'minutenurse', 'rearingitself', 'catagain', 'inaccurate', 'sob', 'sand', 'actually', 'winter', 'anymore', 'raving', 'doesnttell', 'hatterwho', 'amongthem', 'thecorners', 'case', 'caucusracewhat', 'generations', 'fighting', 'grinning', 'pigshe', 'questionit', 'matterworse', 'natural', 'one', 'derivativeworks', 'humbly', 'vanilla', 'deductible', 'herself', 'seemedto', 'widestarray', 'carrollthe', 'songwhat', 'unrolleditself', 'applause', 'thework', 'longer', 'zigzag', 'today', 'trot', 'theyll', 'orcourtiers', 'd', 'wassomething', 'theloryalice', 'theyvebegun', 'shrieks', 'caterpillarim', 'fact', 'showing', 'stop', 'emtogether', 'opening', 'flown', 'fallingthrough', 'been', 'rulesset', 'rose', 'indeed', 'day', 'alarmed', 'theblame', 'shoulderswere', 'andperhaps', 'thedoor', 'openedby', 'turtleangrily', 'withoutprominently', 'canttake', 'dainties', 'panting', 'pigeonim', 'lets', 'latin', 'lastremark', 'cauldron', 'acrosshis', 'hercollar', 'thoughtand', 'surei', 'asthe', 'dreamthe', 'honour', 'whilesthen', 'withall', 'pour', 'whyit', 'shecouldno', 'donors', 'after', 'history', 'telling', 'temper', 'inbills', 'leastat', 'yetno', 'ma', 'shetried', 'breeze', 'hid', 'tiedup', 'timedont', 'obliged', 'bookshelves', 'doesnt', 'say', 'adoption', 'limitation', 'roughly', 'custard', 'littlestartled', 'muchthe', 'occurred', 'rabbit', 'withone', 'takethe', 'such', 'remarkof', 'politelybut', 'whistlingoh', 'roundill', 'pawsand', 'turtleinterrupted', 'thewoodshe', 'partwell', 'therethey', 'footshe', 'gryphonturn', 'way', 'versionposted', 'hedid', 'gravy', 'young', 'worksharmless', 'middle', 'stuff', 'nest', 'containdefects', 'city', 'affectionately', 'camejumping', 'linkedto', 'myself', 'hit', 'oncethe', 'hookah', 'againbythebye', 'soonmade', 'acceptance', 'knowis', 'fellow', 'last', 'judge', 'cheshire', 'treedid', 'share', 'cardboardall', 'monthis', 'donationmethods', 'agoanything', 'cheerfully', 'arches', 'form', 'purposesuch', 'especially', 'werejust', 'walk', 'preserve', 'foundit', 'walrus', 'seaside', 'todayjust', 'theyd', 'languid', 'himor', 'rudethe', 'thathe', 'putthe', 'bank', 'thetime', 'oldest', 'findthe', 'allwould', 'middleaged', 'believed', 'ledge', 'begunto', 'codes', 'would', 'read', 'throwing', 'paws', 'civil', 'ofa', 'waiting', 'elses', 'respectable', 'rule', 'concerningthe', 'ofpepper', 'ada', 'kingthen', 'upthe', 'morals', '60', 'apply', 'andthe', 'earplease', 'fourthtwo', 'earnestly', 'splashshe', 'everydoor', 'subjectten', 'andbegged', 'decidedtone', 'kissed', 'curtseying', 'projectgutenbergtm', 'half', 'sir', 'wordseat', 'presentat', 'happens', 'uncorked', 'burning', 'thistle', 'mindthe', 'aliceit', 'gryphonwe', 'master', 'nowa', 'principal', 'wassilentthe', 'queenin', 'who', 'reasons', 'offif', 'hers', 'afterwardsstuff', 'asudden', 'leaves', 'racecourse', 'ears', 'lie', 'facewith', 'wonthis', 'ointmentone', 'several', 'hurryan', 'violentlythat', 'settling', 'turtlevery', 'sitdown', 'staffplease', 'licenseplease', 'alicedid', 'muttering', 'lobsterquadrille', 'vii', 'firstsaw', 'employees', 'they', 'queenit', 'wandering', 'withyour', 'sorrows', 'information', 'allmy', 'gamebegan', 'comingdown', 'unitedstates', 'every', 'no', 'yourhistory', 'carriedit', 'eyestell', 'addressingnobody', 'days', 'lessonbooksand', 'herselfsafe', 'felt', 'nowabout', 'effect', 'immediately', 'sighing', 'somersault', 'negligence', 'tablein', 'couples', 'crumbs', 'executioner', 'hurriedback', 'dippedit', 'lazything', 'believeboots', 'then', 'isuppose', 'returns', 'stored', 'sortsof', 'remark', 'getan', 'identify', 'sections', 'confusion', 'pleasant', 'stopthese', 'kills', 'pleases', 'passageinto', 'matter', 'youshe', 'glaring', 'youall', 'far', 'suitthe', 'either', 'removedthe', 'muchalas', 'displaying', 'facility', 'mouthand', 'considerableeffort', 'turtles', 'linkedinto', 'andvery', 'beast', 'overcome', 'silence', 'allin', 'until', 'itthe', 'drawling', 'mostconfusing', 'accounts', 'distributor', 'mouseto', 'collection', 'usunless', 'idare', 'ofcucumberframes', 'windowthat', 'books', 'heap', 'use', 'ordistribute', 'peoplewhy', 'unitedstates1e', 'asyou', 'indignant', 'prisoners', 'crab', 'meekly', 'toneare', 'wash', 'interrupt', 'croquetground', 'baked', 'derivedfrom', 'joysremembering', 'high', 'cat', 'many', 'dont', 'good', 'lookout', 'part', 'despair', 'struck', 'mouthenough', 'squeaking', 'bent', 'waistthe', 'licensed', 'waste', 'lessonbook', 'hastily', 'foundherself', 'consequential', 'splashing', 'duck', 'sulky', 'stopped', 'lookedat', 'afterall', 'gutenbergtmsgoals', 'learnwell', 'onim', 'contain', 'nurseand', 'itshe', 'advisable', 'claim', 'millennium', 'vanishedalice', 'spectacles', 'thinkabout', 'offnonsense', 'improve', 'tea', 'destroy', 'bats', 'doubt', 'executedthe', 'parts', 'confused', 'met', 'shinglewill', 'otheras', 'herselfto', 'themcalled', 'dearoh', 'frighten', 'madeher', 'too', 'run', 'whiting', 'soalice', 'caterpillaris', 'wife', 'andresearch', 'dozingoff', 'opportunity', 'thebreadandbutter', 'tie', 'productionpromotion', 'additionalterms', 'cati', 'worriedjust', 'billit', 'camethe', 'advisablefound', 'gutenbergtmelectronic', 'ye', 'nosort', 'ofincreasing', 'nile', 'andsighingit', 'stick', 'thehouse', 'outoftheway', 'denied', 'hatterthis', 'explanation', 'thehot', 'unpleasant', 'housemaid', 'themwith', 'samesize', 'ofwhat', 'movethat', 'canvas', 'copyright', 'two', 'saidthis', 'pink', 'fanquick', 'lips', 'mouseofa', 'quarrel', 'itthats', 'shegot', 'given', 'any', 'going', 'isbirds', 'imitated', 'heralice', 'seems', 'sea', 'footsteps', 'thatwould', 'gloves', 'herselffor', 'withactive', 'freely', 'thearchbishop', 'guessed', 'shoulders', 'orderedthey', 'reedsthe', 'agreed', 'isit', 'ofyoursoh', 'firstthey', 'bearmind', 'foundationand', 'reminding', 'accept', 'compilation', 'sentence', 'ugh', 'doorhad', 'thethe', 'sensation', 'ima', 'afterthatonly', 'deny', 'daythat', 'pop', 'burnt', 'therefore', 'hadsucceeded', 'withseaography', 'againthe', 'help', 'headalice', 'presentof', 'beat', 'isthen', 'towards', 'further', 'ak', 'timidlywould', 'doubtfor', 'mabel', 'length', 'squeeze', 'tut', 'whenyou', 'caucusrace', 'simple', 'william', 'calledout', 'dreaming', 'hypertext', 'gutenbergtmwork', 's', 'oncegive', 'thatwith', 'pickedupwhats', 'milk', 'courtall', 'prove', 'current', 'onwhich', 'babythe', 'hareyes', 'laugh', 'organized', 'appearedi', 'chuckled', 'likethe', 'offgive', 'thehatter', 'rightof', 'firstquestion', 'are', 'managed', 'usurpation', 'herbest', 'whatsoever', 'paying', 'alicecall', 'himit', 'beheading', 'marked', 'constantheavy', 'voiceyour', 'livery', 'whyyour', 'comfortable', 'manthere', 'soundthats', 'whenthe', 'hold', 'thunderstorma', 'hearth', 'tired', 'anotherlong', 'iswhy', 'isof', 'nextwitness', 'favoured', 'actual', 'rats', 'thelory', 'duchesssneezed', 'tuliproots', 'yetoh', 'jumped', 'uponher', 'pressing', 'hoped', 'silenceat', 'comingback', 'knewthe', 'youll', 'pinch', 'manners', 'askedyes', 'nouse', 'lookedanxiously', 'hat', 'tongue', 'smallest', 'older', 'clapping', 'longitude', 'greatdeal', 'fromoutside', 'gardenhow', 'goingto', 'walkingaway', 'processionwondering', 'dinn', 'soonwhat', 'eaten', 'minutes', 'wildlyaboutchange', 'beingupset', 'seei', 'stairs', 'whatthe', 'houseof', 'tastes', 'haddisappearednever', 'uglification', 'shelooked', 'forth', 'youcharge', 'writingdeskswhich', 'caught', 'violates', 'distance', 'comfortably', 'drew', 'spoon', 'farmeryou', 'onin', 'piteous', 'firstthe', 'sneeze', 'doth', 'gladshe', 'modern', 'undertoneimportantunimportantunimportantimportant', 'melike', 'nearour', 'shook', 'procession', 'gross', 'alicenothing', 'pounds', 'largerabbithole', 'saidalice', 'son', 'forshe', 'tax', 'jackinthebox', 'thatled', 'childrenhow', 'rawwell', 'shecouldthe', 'everythings', 'verdict', 'thename', 'nasty', 'whileshe', 'officersof', 'upwith', 'back', 'thenishouldnt', 'whichchanged', 'carried', 'corner', 'not', 'hatter', 'vague', 'andby', 'guardhim', 'animals', 'shake', 'anignorant', 'thoughhe', 'eeevening', 'alicethe', 'himself', 'prizesalice', 'growingyouve', 'idonly', 'uncommonly', 'byrailway', 'later', 'puzzledher', 'againalice', 'the', 'using', 'distancebut', 'stirring', 'gamethe', 'kitchenwhen', 'withthe', 'catsnot', 'unpleasantstate', 'engaged', 'guineapighead', 'skyalice', 'concerning', 'smiling', 'paris', 'remained', 'tointroduce', 'downloading', 'downhere', 'finds', 'golden', 'turn', 'state', 'xii', 'somebodyit', 'coast', 'kingshant', 'friends', 'intheir', 'onedoesnt', 'pineapple', 'much', 'clock', 'waswalking', 'whoin', 'meaningand', 'watchingthem', 'teai', 'bankthebirds', 'asking', 'bend', 'whatto', 'abide', 'twinklehere', 'knowshe', 'nicemuddle', 'theyliked', '1994last', 'verylittle', 'overyes', 'proper', 'offalice', 'talking', 'wowhere', 'queenwas', 'sends', 'flock', 'bringing', 'contradicted', 'startled', 'hungry', 'counting', 'argueits', 'narrow', 'vanished', 'thoughtfully', 'watch', 'largein', 'themouse', 'alices', 'pun', 'lit', 'iv', 'onebut', 'awaythere', 'sleep', 'settleddown', 'can', 'pale', 'heightit', 'weeksim', 'knave', 'king', 'finishedso', 'bedon', 'everything', 'digging', 'direction', 'card', 'justice', 'damaged', 'sneezes', 'pinchit', 'miles', 'trembling', 'yawning', 'ofuglifying', '20', 'hallbut', 'courseyes', 'stole', '1500', 'ofi', 'promisetreacle', 'delighted', 'someone', 'goose', 'bekind', 'breathand', 'crown', 'ringlets', 'yesterdaybecause', 'itshes', 'historyas', 'youtake', 'illso', 'thatthe', 'as', 'more', 'amongthe', 'thisis', 'pencetake', 'worth', 'dodoa', 'thedistancecome', 'folding', 'fromcopying', 'financial', 'prosecute', 'wasan', 'hardly', 'toes', 'mbut', 'becomingand', 'howin', 'foreheadthe', 'honest', 'whispered', 'wind', 'year', 'twentyfour', 'thatisbe', 'thepool', 'oclock', 'eat', 'littleshe', 'particular', 'settlethe', 'hallafter', 'upon', 'dream', 'alreadythat', 'gettingsomewhere', 'tossingthe', 'writing', 'resource', 'jurymenit', 'causesection', 'dull', 'walking', 'wantto', 'profits', 'thecroquetgroundthe', 'mind', 'appearancein', 'queershapedlittle', 'congereelthat', 'occasionally', 'remove', 'beak', 'foryourselfno', 'accepted', 'tree', 'lodging', 'learnt', '30chapter', 'clearly', 'doze', 'dig', 'include', 'halfpast', 'backhowever', 'oneof', 'backin', 'difficulties', 'advantage', 'folded', 'rise', 'addressed', 'carrollposting', 'minute', 'became', 'hope', 'carroll', 'scale', 'roots', 'making', 'trumpet', 'old', 'queens', 'hair', 'associated', 'see', 'caterpillar', 'sheknew', 'saidwas', 'backsomersault', 'balanced', 'eyelids', 'sang', 'formats', 'deserved', 'shes', 'softly', 'appealed', 'eaglet', 'sharks', 'his', 'accordance', 'grinthey', 'wasscratching', 'kitchenthat', 'withcupboards', 'twiceeach', 'wonderlandlewis', 'onwho', 'askance', 'ideathat', 'pegs', 'remaining', 'near', 'shoutedin', 'untilall', 'cats', 'hear', 'lifejust', 'partner', 'forthin', 'tobegin', 'fashion', 'knowwhether', 'quitejumped', 'carrier', 'seeyou', 'conversationalice', 'truthfulchild', 'roundbut', 'undersentence', 'modified', 'pleasure', '11txt', 'intolittle', 'about', 'whereupon', 'calculated', 'project', 'usthey', 'broken', 'him', 'tells', 'tosee', 'beenit', 'persons', 'queen', 'executionwhat', 'meanwhile', 'timidlysaying', 'oldfellowthe', 'harethen', 'edgar', 'asit', 'wonderwho', 'snortinglike', 'onehand', 'think', 'sharply', 'theydoing', 'service', 'hada', 'tails', 'whitingi', 'thenexplain', 'wasof', 'guilt', 'babyand', 'jawsim', 'wasi', 'amoment', 'entangled', 'ofelectronic', 'canswim', 'asis', 'wasnt', 'heryes', 'blades', 'themand', 'curls', 'aloudi', 'roofthere', 'cattle', 'terms', 'currants', 'paw', 'askedthe', 'pretexts', 'shaped', 'ix', 'twinkled', 'puzzlingit', 'inthere', 'furthershe', 'mineral', 'highthen', 'attemptsat', 'taking', 'businessah', 'onlyanswered', 'goldfishshe', 'links', 'including', 'enough', 'want', 'poor', 'myhistory', 'kings', 'money', 'faster', 'lowvoice', 'oncewhile', 'camomile', 'created', 'f3', 'puzzledhe', 'advice', 'consented', 'indemnify', 'undo', 'nothingthis', 'yourname', 'imopening', 'wherever', 'addressedher', 'someminutes', 'fine', 'having', 'anyparticular', 'soft', 'storychapter', 'nursing', 'kingnothing', 'jurymenno', 'openplace', 'sleepy', 'possessed', 'triumphantlyalice', 'rustling', 'waitedthe', 'heads', 'tryingwhich', 'relief', 'riddlesi', 'alarm', 'tone', 'rising', 'planit', 'andnow', 'caterpillars', 'howqueer', 'lest', 'theground', 'safe', 'bird', 'individual', 'extentpermitted', 'driest', 'beenchanged', 'knows', 'andromeno', 'pace', 'dressed', 'brassplate', 'those', 'execute', 'keeping', 'company', 'gutenbergare', 'b', 'applicable', 'nextthe', 'distant', '99712', 'youre', 'nowchapter', 'treated', 'offthe', 'invented', 'wont', 'hint', 'ten', 'madhow', 'fortunately', 'certainly', 'worse', 'thenthe', 'somewhere', 'english', 'questionshow', 'sisters', 'theconclusion', 'gutenbergtm1e5', 'brown', 'theking', 'neatly', 'orthey', 'newby', 'shehad', 'rome', 'todayi', 'finishedas', 'paragraph', 'drinkingthey', 'paintingthose', 'while', 'uncivil', 'isthe', 'conqueror', 'knowledge', 'cake', 'end', 'claws', 'caterpillarnot', 'yards', 'thatoh', 'pepperbox', 'shouldersthat', 'some', 'maam', 'verse', 'hopeful', 'edition', 'save', 'armchair', 'solemnlyalice', 'rich', 'infringement', 'directions', 'factalice', 'agreementand', 'royalty', 'extremely', 'endif', 'grave', 'theshriek', 'subjectgo', 'wenton', 'rattle', 'cease', 'caused', 'entityproviding', 'rabbithole', 'receive', 'idea', 'donejust', 'shriek', 'shouted', 'countryis', 'passion', 'seeit', 'corporation', 'may', 'hereas', 'inyour', 'timeit', 'offendedyou', 'theylldo', 'magic', 'aconsiderable', 'fading', 'hedgein', 'swimming', 'versesare', 'generationsto', 'bone', 'hot', 'realitythe', 'discover', 'theduchess', 'patriotic', 'experimenthe', 'sort', 'dates', 'plate', 'conversations', 'meanstomakeanythingprettierwell', 'foundationor', 'trials', 'aletter', 'witness', 'aloud', 'confirmed', 'now', 'andneither', 'meet', 'ofcoursei', 'sadlyhand', 'twist', 'shed', 'impatient', 'distancesitting', 'doalice', 'canttell', 'clever', 'dreamfirst', 'fairytales', 'set', 'lessen', 'mentioned', 'porpoisedont', 'theycant', 'harehe', 'legs', 'timealice', 'highchapter', 'heardof', 'subjects', 'prominentlywhenever', 'nonsense', 'rosesoff', 'bill', 'trialstupid', 'daya', 'creation', 'stretched', 'arm', 'possible', 'love', 'soooop', 'on', 'thatcall', 'whowas', 'wits', 'totwist', 'called', 'draw', 'tonobody', 'indirect', 'director', 'cook', 'toand', 'likei', 'howlarge', 'exclamation', 'andtried', 'croquetthen', 'noisegoing', 'toys', 'bristling', 'looked', 'indeedthe', 'repliedhere', 'pairsof', 'chrysalisyou', 'buti', 'gently', 'cur', 'smoke', 'livesa', 'containing', 'liability', 'began', 'hand', 'onto', 'bethe', 'dontlike', 'frog', 'distributed', 'unhappyit', 'wasnow', 'caterpillarhere', 'where', 'executionthen', 'madi', 'seals', 'saying', 'own', 'climb', 'bitof', 'andstraightening', 'harei', 'wasgenerally', 'brushing', 'reading', 'thinkingover', 'cornerno', 'billthen', 'seen', 'mesee', 'disclaim', 'capering', 'newspapers', 'opened', 'waynever', 'skirtupsetting', 'gutenbergtmincluding', 'sobbing', 'wonderwhat', 'andconfusion', 'fly', 'throw', 'enjoy', 'teapartythere', 'awayyou', 'hours', 'rude', 'arguments', 'otherwise', 'breathei', 'printededitions', 'baby', 'tinyhands', 'goes', 'evenin', 'rememberthe', 'ivemade', 'thingsi', 'cold', 'apples', 'seemed', 'voicethe', 'bills', 'coward', 'peoplebut', 'matters', 'courage', 'waving', 'important', 'nibbled', 'storyim', 'beg', 'confusedway', 'theterms', 'donate', 'greatdisappointment', 'lost', 'rubbed', 'curiouser', 'started', 'serpent', 'introduced', 'gryphonof', 'skurried', 'questionwhat', 'elbows', 'pair', 'breath', 'sentenced', 'country', 'arefund', 'might', 'terrier', 'original', 'madto', 'bathing', 'chimney', 'saythis', 'aliceflinging', 'wasnot', 'appear', 'incomplete', 'adventuresi', 'almostwish', 'partnerschange', 'sourand', 'daythis', 'jury', 'theassistance', 'order', 'rightway', 'hanging', 'methought', 'contributions', 'mindnow', 'tohalfpast', 'momentlets', 'shestretched', 'crawled', 'aliceanything', 'fix', 'atone', 'nervous', 'doorcall', 'cross', 'bat', 'fight', 'askedbegin', 'paid', 'northumbriaugh', 'dontthink', 'educational', 'whatwas', 'determine', 'thingabout', 'curled', 'chains', 'engraved', 'herealice', 'singersyou', 'insult', 'dearyou', '1e91e8', 'medium', 'foundations', 'offall', 'themushroom', 'evening', 'miserable', 'awell', 'thiswork', 'equipment1f2', 'im', 'wonderland', 'atall', 'under', 'facelike', 'crouched', 'savage', 'lawsthe', 'shining', 'tale', 'theroof', 'slatesll', 'oneapiece', 'waistcoatpocket', 'toherself', 'archivefoundationthe', 'chop', 'muchabout', 'heremay', 'anuncomfortably', 'bottom', 'advise', 'must', 'crowded', 'fortwo', 'betalking', 'blown', 'allfor', 'himhis', 'show', 'written', 'upright', 'madyoure', 'raven', 'thinkingabout', 'curiositysoles', 'home', 'takestwentyfour', 'officialpage', 'subdued', 'perfectlyround', 'cheeredalice', 'fire', 'sugar', 'indicating', 'redhotpoker', 'stupidest', 'body', 'play', 'thick', 'nicely', 'won', 'moment', 'washingextrayou', 'chose', 'piecesplease', 'therules', 'offers', 'true', 'despite', 'williamthe', 'dormouses', 'came', 'rock', 'overhead', 'toneonly', 'eachother', 'wastoo', 'venturedto', 'lobster', 'itll', 'quadrille', 'axistalking', 'wasstanding', 'whoapproach', 'repeating', 'protectionyou', 'yet', 'everthought', 'moreas', 'why', 'fifteen', 'didyou', 'know', 'peeping', 'childmy', 'character', 'someseverity', 'dreadfully', 'tonepray', 'howsurprised', 'sounds', '2008', 'jumping', 'pigs', 'paperif', 'editions', 'itthere', 'wequarrelled', 'scatteredthroughout', 'toprotect', 'violent', 'sirthe', 'gutenberg', 'depends', 'twinkle', 'unfolded', 'shy', 'passed', 'usuali', 'andfainting', 'anger', 'reallyimpossiblethere', 'criedcome', 'lookingfor', 'howconfusing', 'notwe', 'move', 'fanand', 'repeat', 'pleaded', 'dried', 'thereal', 'youthinking', 'anytearsno', 'wildly', 'dry', 'else', 'loud', 'feelingvery', 'prison', 'need', 'dog', 'tossing', 'thecollection', 'size', 'sadlyand', 'wander', 'so', 'thanyou', 'beginfor', 'irritated', 'flew', 'tonehm', 'queenwell', 'gay', 'fancying', 'loose', 'snatch', 'england', 'beused', 'following', 'remain', 'orlongitude', 'lessons', 'mouth', 'herthe', 'strings', 'knowbut', 'youdtake', 'different', 'askedno', 'often', 'bitperhaps', 'youdry', 'taller', 'timewhen', 'charge', 'prizes', 'shade', 'thatif', 'occur', 'moving', 'cares', 'placedalong', 'quickly', 'stopwell', 'inchesdeep', 'againbefore', 'quietthing', 'butshe', 'finger', 'nicelittle', 'shut', 'cakes', 'giddy', 'acomplaining', 'upbut', 'energeticremediesspeak', 'anyprovision', 'mustardmine', 'wet', 'rabbitspat', 'told', 'headstill', 'thehedgehog', 'creating', 'crossexamine', 'thatridiculous', 'conversation', 'usedenying', 'paint', '84116', 'repliedrather', 'void', 'axes', 'behead', 'sheset', 'tried', 'crossed', 'triumphantly', 'verylike', 'forbringing', 'bykeeping', 'alas', 'shall', 'ofthat', 'morcar', 'chimneynay', 'placeonhe', 'scolded', 'twelfth', 'aliceand', 'reaching', 'leavesas', 'neverforgotten', 'planning', 'slatesbut', 'display', 'side', 'alicebegan', 'thequeennever', 'done', 'thecourtwhat', 'thesudden', 'andalice', 'mindingtheir', 'washing', 'eyesbut', 'beautiful', 'nomice', 'waters', 'answered', 'mouseeverything', 'exactlyas', 'sayingto', 'whichremained', 'friend', 'storyyou', 'previous', 'interrupting', 'growls', 'alarge', 'result', 'owed', 'word', 'kid', 'weretwo', 'questions', 'redistribute', 'head', 'wentback', 'paperwork', 'am', 'beganyoure', 'shecame', 'sharing', 'included', '1e81b', 'tearscuriouser', 'carrollthis', 'mustard', 'withthis', 'fingerand', 'delay', 'errors', 'charitable', 'mouths', 'rightear', 'mockturtle', 'lines', 'moreyou', 'couldbe', 'orcreating', 'sides', 'chimneyoh', 'tryingi', 'shrinking', 'couldnot', 'sands', 'triedhedges', 'license', 'adjourn', 'fidgetedgive', 'oni', 'onewith', 'ifif', 'hadjust', 'aftertime', 'number', 'courtwas', 'catch', 'added', 'thinkyou', 'singoh', 'another', 'donateinternational', 'pg', 'hall', 'committed', 'voicerepeat', 'stupid', 'hippopotamus', 'moral', 'drawlingmaster', 'ensuring', 'needs', 'change', 'truedown', 'knowing', 'shewas', 'proudas', 'offend', 'herselfof', 'seldom', 'aminutealice', 'sharp', 'aliceone', 'height', 'smile', 'remarkedoh', 'onalice', 'headbut', 'andunder', 'ionly', 'renamedcreating', '5961887', 'punching', 'lark', 'shessuch', 'really', 'account', 'withoutknowing', 'thesame', 'steady', 'croquetthe', 'bough', 'daisies', 'boxed', 'addresses', 'includes', 'displayed', 'turning', 'quarrelling', 'bag', 'goodnatured', 'seemsto', 'begins', 'distributing', 'grandprocession', 'custody', 'sense', 'turned', 'present', 'arise', 'agreement', 'able', 'isits', 'fellows', 'your', 'getthem', 'rattling', 'themi', 'notion', 'couple', 'withoutnoticing', 'doesntmatter', 'cup', 'pronounced', 'snail', 'shinyalice', 'quietly', 'pencils', 'maximum', 'executions', 'wordshave', '4557', 'continued', 'sh', 'youtell', 'usually', 'growled', 'disgust', 'gamechapter', 'angrilyit', 'theres', 'fromthe', 'that', 'threelegged', 'carrying', 'says', 'caterpillarthe', 'passionate', 'choking', 'wildbeasts', 'presents', 'thechimneys', 'thump', 'atsection', 'herwonderful', 'trying', 'herneck', 'mine', 'queento', 'alicefor', 'workseven', 'learned', 'thena', 'crawling', 'wherewell', 'awayconsider', '2001', 'andrepeated', 'were', 'wayi', 'beheadedwhat', 'heardyes', 'mission', 'disagree', 'swallowed', 'areferrets', 'stamping', 'updated', 'knot', 'flamingoshe', 'aliceagainno', 'skyrocketso', 'furious', 'comewrong', 'fig', 'withoutpermission', 'various', 'late', 'verylikely', 'atheling', 'earalice', 'look', 'dish', 'win', 'tortoisewhy', 'thensilence', 'uglify', 'telescope', 'thelefthand', 'clasped', 'protect', 'gregory', 'glassnow', 'adventures', 'knocking', 'delightful', 'swallowing', 'alicecould', 'nor', 'thegryphon', 'neverending', 'ate', 'locks', 'idiotic', 'herselfas', 'daresay', '1c', 'byfreely', 'wow', 'nevertheless', 'notlike', 'network', 'opposite', 'funny', 'coaxinghardly', 'follows', 'elsechapter', 'foreheadachealice', 'capital', 'wowwhile', 'ashamed', 'face', 'along', 'break', 'agent', 'knowi', 'sherepeated', 'thistime', 'reasonable', 'queerthings', 'talkingalice', 'aregular', 'hedgehogsthe', 'nine', 'green', 'gryphonhalf', 'speaking', 'runningon', 'paper', 'adrawing', 'shore', 'honourdigging', 'alternate', 'cameskimming', 'northumbria', 'extras', 'cooktreacle', 'sheepbells', 'setforth', 'hearing', 'buteverythings', 'soupchapter', 'swim', 'flappers', 'pressedso', 'choose', 'thirty', 'tidy', 'trims', 'ourselves', 'secureand', 'glad', 'hersister', 'damage', 'fright', 'person', 'copy', 'theknavethe', 'flung', 'oftears', 'comfits', 'alicestand', 'our', 'settled', 'voices', 'remarkedright', 'finished', 'gloomily', 'kingit', 'tumbled', 'others1d', 'listenthe', 'somehow', 'talkabout', 'caterpillarthis', 'thefire', 'hisheadhow', 'father', 'yelled', 'sorrow', 'free', 'shutthis', 'sosavage', 'hadfinished', 'wasand', 'white', 'amnow', 'left', 'merely', 'ascii', 'boots', 'otherwarranties', 'morcarthe', 'teaparty', 'executive', 'directly', 'alicesfirst', 'saythat', 'verycurious', 'herselfand', 'grunt', 'onlyit', 'find', 'anythingwhy', 'december', 'whyi', 'slowlyafter', 'checkthe', 'lifted', 'particularly', 'easilyoffendedyoull', 'search', 'fewthings', 'yourmajesty', 'toeverything', 'cried', 'comehere', 'trees', 'lay', 'gazing', 'alteredit', 'west', 'onionsseven', 'eyesfull', 'periodic', 'esq', 'attending', 'outlaughing', 'always', 'court', 'solidglass', 'todry', 'doingout', 'thistleto', 'lobsteralice', 'lying', 'saidfifteenth', 'pardoned', 'havingcheated', 'shaking', 'waited', 'lowwould', 'virus', 'tinkling', 'should', 'replyidiot', 'hurriedoff', 'wait', 'thelizards', 'clamour', 'teatimeand', 'spread', 'stupidbut', 'anythingbut', 'music', 'ideahow', 'beenbut', 'soothing', 'damages', 'become', 'twelve', 'speakwhat', 'owns', 'foryou', 'andshe', 'elbow', 'status', 'andpeople', 'lowspirited', 'give', 'toast', 'yetandyetits', 'immediate', 'hide', 'fat', 'tremble', 'hotbuttered', 'andheld', 'be', 'label', 'obtain', 'likesid', 'glovesthat', 'herabout', 'attended', 'singers', 'quiteunderstand', 'handed', 'fora', 'remarkits', 'ortwo', 'dishes', 'thats', 'busily', 'frontispiece', 'all', 'above', 'itbut', 'soldiers', 'peeped', 'readable', 'over', 'teatray', 'legal', 'theduck', 'lieu', 'shrill', 'crossly', 'just', 'andbegan', 'meluckily', 'onso', 'earsand', 'section', 'thingit', 'asleep', 'direct', 'suppressed', 'mercia', 'breadknifethe', 'possibility', 'perform', 'derive', 'liked', 'hedge', 'candle', 'squeaked', 'unwillingly', 'touch', 'moralof', 'very', 'exactlywhat', 'speed', 'backand', 'respectcheshire', 'hatterstolen', '1f3', 'pleasureof', 'bite', 'beauootiful', 'firstwhy', 'below1c', 'himhow', 'afford', 'freedistribution', 'rapidly', 'short', 'bones', 'catso', 'igrow', 'wandered', 'tohave', 'illgo', 'couldshut', 'canary', 'looking', 'feather', 'shepitied', 'exactly', 'cominghow', 'deniednothing', 'allher', 'flustered', 'theright', 'marchhare', '50', 'problem1f4', 'mushroom', 'thesoldiers', 'jellyfish', 'grown', 'ofthis', 'expense', 'severalthings', 'youvehadoh', 'sighed', 'outofthewaythings', 'promised', 'pebbles', 'askedwhy', 'knockedtheres', 'conversationyou', 'nearlyforgotten', 'marchjust', 'teeth', 'wearily', 'mournful', 'among', 'doubtful', 't', 'better', 'airs', 'waitedwhen', 'unlink', 'ablow', 'breathe', 'bestcat', 'believe', 'costs', 'togethercant', 'curious', 'best', 'puffed', 'throat', 'distanceand', 'sittingnext', 'themalice', 'secondthing', 'withoutknocking', 'majesty', 'kindly', 'heranswer', 'breadandbutterbut', 'thingsaid', 'email', 'yawningim', 'thetrial', 'shedding', 'confusingit', 'odd', 'anyoneproviding', 'imsure', 'littlehot', 'burn', 'wide', 'indignantlyah', 'sayso', 'tartsthe', 'feared', 'comply', 'granted', 'facewake', 'sat', 'disclaimers', 'denial', 'sharedwith', 'goldenkey', 'take', 'pglaf', 'threeblasts', 'wasting', 'placesall', 'prohibitionagainst', 'howmany', 'provoking', 'thrown', 'thus', 'asleepafter', 'away', 'theknave', 'tofeel', 'eleventh', 'nextversebut', 'altogetherthat', 'thimble', 'likedis', 'calling', 'itsface', 'dodged', 'wayso', 'shoulder', 'treaclefromyou', 'aboutthe', 'beautifully', 'disclaimer', 'electronicworks', 'geton', 'hedgehog', 'running', 'unlessthere', 'answersif', 'below', 'wasevidently', 'regulatingcharities', 'angrilya', 'rightsize', 'footmen', 'mousein', 'sight', 'handwriting', 'followexcept', 'themarch', 'years', 'deathyou', 'hehurried', 'for', 'asked', 'words', 'whyshell', 'toneexplanations', 'isaythats', 'faintlycame', 'declare', 'swam', 'dancethank', 'itbegins', 'youknowi', 'reach', 'saidwhat', 'breadandbutter', 'measureherself', 'alteration', 'tablehave', 'page', 'defective', 'complying', 'listening', 'graceful', 'pulled', 'ofthem', 'crumbsyoure', 'yourfinger', 'saidaliceoh', 'atlast', 'turtleand', 'turtleshe', 'gloveshow', 'youthere', 'frightoh', 'em', 'wonderlandauthor', 'sendingpresents', 'worm', 'simply', 'woodthe', 'thatched', 'andtold', 'wouldnt', 'whatshe', 'against', 'series', 'party', 'grass', 'ratehowever', 'ihavent', 'backs', 'listenmary', 'minded', 'songabout', 'spotthis', 'again', 'smoking', 'carry', 'straight', 'criedalice'}\n",
      "\n",
      "Converted words: [[53, 1077, 213, 334, 9, 554, 56, 795, 1602, 335]]\n",
      "Training words[0]: ['project', 'gutenbergs', 'alices', 'adventures', 'in', 'wonderland', 'by', 'lewis', 'carrollthis', 'ebook', 'is', 'for', 'the', 'use', 'of', 'anyone', 'anywhere', 'at', 'no', 'cost', 'and', 'withalmost', 'no', 'restrictions', 'whatsoever', 'you', 'may', 'copy', 'it', 'give', 'it', 'away', 'orreuse', 'it', 'under', 'the', 'terms', 'of', 'the', 'project', 'gutenberg', 'license', 'includedwith', 'this', 'ebook', 'or', 'online', 'at', 'wwwgutenbergorgtitle', 'alices', 'adventures', 'in', 'wonderlandauthor', 'lewis', 'carrollposting', 'date', 'june', '25', '2008', 'ebook', '11release', 'date', 'march', '1994last', 'updated', 'december', '20', '2011language', 'english', 'start', 'of', 'this', 'project', 'gutenberg', 'ebook', 'alices', 'adventures', 'in', 'wonderland', 'alices', 'adventures', 'in', 'wonderlandlewis', 'carrollthe', 'millennium', 'fulcrum', 'edition', '30chapter', 'i', 'down', 'the', 'rabbitholealice', 'was', 'beginning', 'to', 'get', 'very', 'tired', 'of', 'sitting']\n",
      "Target   words[0]: ['by']\n",
      "\n",
      "Training Shape: (26737, 100)\n",
      "Target   Shape: (26737,)\n",
      "\n",
      "Input  Shape : (26737, 100, 1)\n",
      "Labels Shape: (26737, 1)\n"
     ]
    }
   ],
   "source": [
    "# 1. Removing symbols and splitting text into words\n",
    "import re\n",
    "Text = Data.lower()\n",
    "Text = re.sub(r'(@[A-Za-z0-9]+)|([^0-9A-Za-z \\t])|(\\w+:\\/\\/\\S+)|',r'',Text)\n",
    "Text = Text.split()\n",
    "print('Length Words: {}'.format(len(Text)))\n",
    "# 2. Tekonizing text\n",
    "tokenizer = keras.preprocessing.text.Tokenizer()\n",
    "tokenizer.fit_on_texts(Text)\n",
    "# 3. Unique words\n",
    "Uniqtxt = set(Text)\n",
    "word_to_char = dict(enumerate(Uniqtxt))\n",
    "print('Length Unique words: {}'.format(len(Uniqtxt)))\n",
    "print('\\n       Words: {}'.format(Text[:300]))\n",
    "print('Unique words: {}'.format(Uniqtxt))\n",
    "\n",
    "[encoded] = np.array(tokenizer.texts_to_sequences([Text])) - 1\n",
    "print('\\nConverted words: {}'.format(tokenizer.texts_to_sequences([Text[:10]])))\n",
    "# 4. Making a Training and Testing sequence\n",
    "Seqtxt = []\n",
    "for i in range(0,len(Text)-101):\n",
    "    seq = Text[i:i+100]\n",
    "    Seqtxt.append([seq, Text[i+100]])\n",
    "print('Training words[0]: {}'.format(Seqtxt[0][0]))\n",
    "print('Target   words[0]: {}'.format([Seqtxt[0][1]]))\n",
    "# 5. Encoding Sequences & Preparing sequence to fit into the Model\n",
    "[encoded] = np.array(tokenizer.texts_to_sequences([Text])) - 1\n",
    "\n",
    "tekonized = tokenizer.texts_to_sequences(Text)\n",
    "\n",
    "dic = {}\n",
    "for i in range(len(Text)):\n",
    "  dic[Text[i]] = tekonized[i][0]\n",
    "# 6.\n",
    "textX, textY = [], []\n",
    "for i in range(len(Seqtxt)):\n",
    "  textX.append([dic[Seqtxt[i][0][x]] for x in range(len(Seqtxt[0][0]))])\n",
    "  textY.append(dic[Seqtxt[i][1]])\n",
    "\n",
    "textX = np.array(textX)\n",
    "textY = np.array(textY)\n",
    "print('\\nTraining Shape: {}'.format(textX.shape))\n",
    "print('Target   Shape: {}'.format(textY.shape))\n",
    "\n",
    "textX = tf.reshape(textX, [26737, 100,1])\n",
    "print('\\nInput  Shape : {}'.format(np.shape(textX)))\n",
    "textY = tf.reshape(textY, [26737, 1])\n",
    "print('Labels Shape: {}'.format(np.shape(textY)))"
   ]
  },
  {
   "cell_type": "markdown",
   "metadata": {},
   "source": [
    "### Simple LTSM Model"
   ]
  },
  {
   "cell_type": "code",
   "execution_count": 264,
   "metadata": {
    "colab": {
     "base_uri": "https://localhost:8080/",
     "height": 225
    },
    "colab_type": "code",
    "id": "sIhbvExz3Sm0",
    "outputId": "53c422d9-2de4-4dfe-9126-b18ec6ae69fa"
   },
   "outputs": [
    {
     "name": "stdout",
     "output_type": "stream",
     "text": [
      "Model: \"sequential_18\"\n",
      "_________________________________________________________________\n",
      "Layer (type)                 Output Shape              Param #   \n",
      "=================================================================\n",
      "lstm_18 (LSTM)               (None, 100)               40800     \n",
      "_________________________________________________________________\n",
      "dense_18 (Dense)             (None, 5141)              519241    \n",
      "=================================================================\n",
      "Total params: 560,041\n",
      "Trainable params: 560,041\n",
      "Non-trainable params: 0\n",
      "_________________________________________________________________\n"
     ]
    }
   ],
   "source": [
    "# 7. \n",
    "Chlen = len(Uniqtxt)\n",
    "xmodel = tf.keras.models.Sequential([\n",
    "    tf.keras.layers.LSTM(100, input_shape=[None,1]),\n",
    "    tf.keras.layers.Dense(Chlen, activation=\"softmax\"), \n",
    "    ])\n",
    "xmodel.compile(loss=\"categorical_crossentropy\", optimizer=\"adam\", metrics=['accuracy'])\n",
    "xmodel.summary()"
   ]
  },
  {
   "cell_type": "code",
   "execution_count": 265,
   "metadata": {
    "colab": {
     "base_uri": "https://localhost:8080/",
     "height": 381
    },
    "colab_type": "code",
    "id": "g4qeCJ-_51ia",
    "outputId": "1164ed7a-19da-4df8-aeeb-a5eb5ec885a7"
   },
   "outputs": [
    {
     "name": "stdout",
     "output_type": "stream",
     "text": [
      "Train on 26737 samples\n",
      "Epoch 1/10\n",
      "26737/26737 [==============================] - 3s 105us/sample - loss: 27427074.0897 - accuracy: 0.0000e+00\n",
      "Epoch 2/10\n",
      "26737/26737 [==============================] - 2s 57us/sample - loss: 27438451.7492 - accuracy: 0.0000e+00\n",
      "Epoch 3/10\n",
      "26737/26737 [==============================] - 2s 56us/sample - loss: 27438459.5681 - accuracy: 0.0000e+00\n",
      "Epoch 4/10\n",
      "26737/26737 [==============================] - 1s 56us/sample - loss: 27438461.6368 - accuracy: 0.0000e+00\n",
      "Epoch 5/10\n",
      "26737/26737 [==============================] - 2s 56us/sample - loss: 27438462.3786 - accuracy: 0.0000e+00\n",
      "Epoch 6/10\n",
      "26737/26737 [==============================] - 2s 57us/sample - loss: 27438462.9864 - accuracy: 0.0000e+00\n",
      "Epoch 7/10\n",
      "26737/26737 [==============================] - 2s 56us/sample - loss: 27438463.3385 - accuracy: 0.0000e+00\n",
      "Epoch 8/10\n",
      "26737/26737 [==============================] - 2s 60us/sample - loss: 27438463.0603 - accuracy: 0.0000e+00\n",
      "Epoch 9/10\n",
      "26737/26737 [==============================] - 2s 62us/sample - loss: 27438463.0516 - accuracy: 0.0000e+00\n",
      "Epoch 10/10\n",
      "26737/26737 [==============================] - 2s 61us/sample - loss: 27438462.9345 - accuracy: 0.0000e+00\n"
     ]
    }
   ],
   "source": [
    "checkpoint_cb = tf.keras.callbacks.ModelCheckpoint(\"Modeltxt.h5\")\n",
    "history = xmodel.fit(textX, textY, batch_size=180, epochs=10, callbacks=[checkpoint_cb])"
   ]
  },
  {
   "cell_type": "code",
   "execution_count": 266,
   "metadata": {
    "colab": {
     "base_uri": "https://localhost:8080/",
     "height": 35
    },
    "colab_type": "code",
    "id": "SGseck72Fmdc",
    "outputId": "87b7f834-0d2a-4be9-b083-972775b5dba1"
   },
   "outputs": [
    {
     "data": {
      "text/plain": [
       "array([2])"
      ]
     },
     "execution_count": 266,
     "metadata": {
      "tags": []
     },
     "output_type": "execute_result"
    }
   ],
   "source": [
    "test = tf.dtypes.cast(tf.reshape(textX[0], [1,100,1]), tf.float32)\n",
    "lastChar = model.predict_classes(test)\n",
    "lastChar"
   ]
  },
  {
   "cell_type": "markdown",
   "metadata": {},
   "source": [
    "### Converting back to text & Testing"
   ]
  },
  {
   "cell_type": "code",
   "execution_count": 270,
   "metadata": {
    "colab": {
     "base_uri": "https://localhost:8080/",
     "height": 89
    },
    "colab_type": "code",
    "id": "RtglTqiYKxDM",
    "outputId": "1b885727-2d7b-4f07-c716-962ed5079809"
   },
   "outputs": [
    {
     "name": "stdout",
     "output_type": "stream",
     "text": [
      "['muchnessdid'] : is the Predicted Character\n",
      "Converted input integers: [' arithmeticambitiondistraction spokeunimportant 4 neat glanced unimportant queenfirst watched law attached silent first withina roared hundred thinkyoure submittedto rules wheres theleaves mystery rules saw twinkling filled lived cutting worksunless creatures worksunless firsthold aminute worksunless witha first thebreadandbutterjust roared first pennyworth 1 sizes happy hatteralice law atteatime glassfrom submittedto ofconversation spokeunimportant 4 neat verycarefully queenfirst sortnext decidedly growingtooyes ebooks beganin law rather decidedly stretching sobs strictliability welltake pattern goingdown ou nose roared hatteralice pennyworth 1 law spokeunimportant 4 neat glanced spokeunimportant 4 neat walks ishould banquetwhat brave across topsof means couldthe first fur shark yawned inthis rightly busy executiononce roared postedwith unimportantmuchnessdid']\n",
      "Predicted 300 Characters: [' arithmeticambitiondistraction spokeunimportant 4 neat glanced unimportant queenfirst watched law attached silent first withina roared hundred thinkyoure submittedto rules wheres theleaves mystery rules saw twinkling filled lived cutting worksunless creatures worksunless firsthold aminute worksunless witha first thebreadandbutterjust roared first pennyworth 1 sizes happy hatteralice law atteatime glassfrom submittedto ofconversation spokeunimportant 4 neat verycarefully queenfirst sortnext decidedly growingtooyes ebooks beganin law rather decidedly stretching sobs strictliability welltake pattern goingdown ou nose roared hatteralice pennyworth 1 law spokeunimportant 4 neat glanced spokeunimportant 4 neat walks ishould banquetwhat brave across topsof means couldthe first fur shark yawned inthis rightly busy executiononce roared postedwith unimportant muchnessdid muchnessdid muchnessdid muchnessdid muchnessdid muchnessdid muchnessdid muchnessdid muchnessdid muchnessdid muchnessdid muchnessdid muchnessdid muchnessdid muchnessdid muchnessdid muchnessdid muchnessdid muchnessdid muchnessdid muchnessdid muchnessdid muchnessdid muchnessdid muchnessdid muchnessdid muchnessdid muchnessdid muchnessdid muchnessdid muchnessdid muchnessdid muchnessdid muchnessdid muchnessdid muchnessdid muchnessdid muchnessdid muchnessdid muchnessdid muchnessdid muchnessdid muchnessdid muchnessdid muchnessdid muchnessdid muchnessdid muchnessdid muchnessdid muchnessdid muchnessdid muchnessdid muchnessdid muchnessdid muchnessdid muchnessdid muchnessdid muchnessdid muchnessdid muchnessdid muchnessdid muchnessdid muchnessdid muchnessdid muchnessdid muchnessdid muchnessdid muchnessdid muchnessdid muchnessdid muchnessdid muchnessdid muchnessdid muchnessdid muchnessdid muchnessdid muchnessdid muchnessdid muchnessdid muchnessdid muchnessdid muchnessdid muchnessdid muchnessdid muchnessdid muchnessdid muchnessdid muchnessdid muchnessdid muchnessdid muchnessdid muchnessdid muchnessdid muchnessdid muchnessdid muchnessdid muchnessdid muchnessdid muchnessdid muchnessdid muchnessdid muchnessdid muchnessdid muchnessdid muchnessdid muchnessdid muchnessdid muchnessdid muchnessdid muchnessdid muchnessdid muchnessdid muchnessdid muchnessdid muchnessdid muchnessdid muchnessdid muchnessdid muchnessdid muchnessdid muchnessdid muchnessdid muchnessdid muchnessdid muchnessdid muchnessdid muchnessdid muchnessdid muchnessdid muchnessdid muchnessdid muchnessdid muchnessdid muchnessdid muchnessdid muchnessdid muchnessdid muchnessdid muchnessdid muchnessdid muchnessdid muchnessdid muchnessdid muchnessdid muchnessdid muchnessdid muchnessdid muchnessdid muchnessdid muchnessdid muchnessdid muchnessdid muchnessdid muchnessdid muchnessdid muchnessdid muchnessdid muchnessdid muchnessdid muchnessdid muchnessdid muchnessdid muchnessdid muchnessdid muchnessdid muchnessdid muchnessdid muchnessdid muchnessdid muchnessdid muchnessdid muchnessdid muchnessdid muchnessdid muchnessdid muchnessdid muchnessdid muchnessdid muchnessdid muchnessdid muchnessdid muchnessdid muchnessdid muchnessdid muchnessdid muchnessdid muchnessdid muchnessdid muchnessdid muchnessdid muchnessdid muchnessdid muchnessdid muchnessdid muchnessdid muchnessdid muchnessdid muchnessdid muchnessdid muchnessdid muchnessdid muchnessdid muchnessdid muchnessdid muchnessdid muchnessdid muchnessdid muchnessdid muchnessdid muchnessdid muchnessdid muchnessdid muchnessdid muchnessdid muchnessdid muchnessdid muchnessdid muchnessdid muchnessdid muchnessdid muchnessdid muchnessdid muchnessdid muchnessdid muchnessdid muchnessdid muchnessdid muchnessdid muchnessdid muchnessdid muchnessdid muchnessdid muchnessdid muchnessdid muchnessdid muchnessdid muchnessdid muchnessdid muchnessdid muchnessdid muchnessdid muchnessdid muchnessdid muchnessdid muchnessdid muchnessdid muchnessdid muchnessdid muchnessdid muchnessdid muchnessdid muchnessdid muchnessdid muchnessdid muchnessdid muchnessdid muchnessdid muchnessdid muchnessdid muchnessdid muchnessdid muchnessdid muchnessdid muchnessdid muchnessdid muchnessdid muchnessdid muchnessdid muchnessdid muchnessdid muchnessdid muchnessdid muchnessdid muchnessdid muchnessdid muchnessdid muchnessdid muchnessdid muchnessdid muchnessdid muchnessdid muchnessdid muchnessdid muchnessdid muchnessdid muchnessdid muchnessdid muchnessdid muchnessdid muchnessdid muchnessdid muchnessdid muchnessdid muchnessdid muchnessdid muchnessdid muchnessdid muchnessdid muchnessdid muchnessdid']\n"
     ]
    }
   ],
   "source": [
    "Str = str()\n",
    "test = tf.dtypes.cast(tf.reshape(textX[1], [1,100,1]), tf.float32)\n",
    "lastChar = xmodel.predict_classes(test)\n",
    "print('{} : is the Predicted Character'.format([word_to_char[lastChar[0]]]))\n",
    "lastInputs = [word_to_char[x[0]] for x in list(np.asarray(textX[1]))]\n",
    "for x in lastInputs:\n",
    "  Str += ' ' + x\n",
    "Str += word_to_char[lastChar[0]]\n",
    "print('Converted input integers: {}'.format([Str]))\n",
    "TestSeq = np.asarray(textX[1]).flatten().reshape(100,1)\n",
    "for i in range(300):\n",
    "  test = tf.reshape(TestSeq, [1,len(TestSeq),1])\n",
    "  test = tf.dtypes.cast(test, tf.float32)\n",
    "  x = xmodel.predict_classes(test)\n",
    "  TestSeq = np.append(TestSeq, x)\n",
    "PredictedChars = [word_to_char[x] for x in list((TestSeq).flatten())]\n",
    "PredStrs = str()\n",
    "for x in PredictedChars:\n",
    "  PredStrs += ' ' + x\n",
    "print('Predicted 300 Characters: {}'.format([PredStrs]))"
   ]
  },
  {
   "cell_type": "code",
   "execution_count": 0,
   "metadata": {
    "colab": {},
    "colab_type": "code",
    "id": "ZCDfXwJINIst"
   },
   "outputs": [],
   "source": []
  }
 ],
 "metadata": {
  "accelerator": "GPU",
  "colab": {
   "collapsed_sections": [],
   "machine_shape": "hm",
   "name": "Assignment_5.ipynb",
   "provenance": []
  },
  "kernelspec": {
   "display_name": "Python 3",
   "language": "python",
   "name": "python3"
  },
  "language_info": {
   "codemirror_mode": {
    "name": "ipython",
    "version": 3
   },
   "file_extension": ".py",
   "mimetype": "text/x-python",
   "name": "python",
   "nbconvert_exporter": "python",
   "pygments_lexer": "ipython3",
   "version": "3.7.4"
  }
 },
 "nbformat": 4,
 "nbformat_minor": 1
}
